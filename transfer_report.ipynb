{
  "nbformat": 4,
  "nbformat_minor": 0,
  "metadata": {
    "colab": {
      "name": "transfer report",
      "provenance": [],
      "collapsed_sections": [],
      "toc_visible": true,
      "authorship_tag": "ABX9TyOByFRwMwCMWohf/zJoqYaC",
      "include_colab_link": true
    },
    "kernelspec": {
      "name": "python3",
      "display_name": "Python 3"
    },
    "accelerator": "GPU"
  },
  "cells": [
    {
      "cell_type": "markdown",
      "metadata": {
        "id": "view-in-github",
        "colab_type": "text"
      },
      "source": [
        "<a href=\"https://colab.research.google.com/github/TheForeverLost/FootballTransfers/blob/master/transfer_report.ipynb\" target=\"_parent\"><img src=\"https://colab.research.google.com/assets/colab-badge.svg\" alt=\"Open In Colab\"/></a>"
      ]
    },
    {
      "cell_type": "markdown",
      "metadata": {
        "id": "ICTKtD99rmN3",
        "colab_type": "text"
      },
      "source": [
        "# Data Collection for transfer analysis\n"
      ]
    },
    {
      "cell_type": "markdown",
      "metadata": {
        "id": "sgb105GKrxNJ",
        "colab_type": "text"
      },
      "source": [
        "## Imports\n",
        "We will be using bs4 to parse through the html pages"
      ]
    },
    {
      "cell_type": "code",
      "metadata": {
        "id": "YF0yHyk9ygrB",
        "colab_type": "code",
        "colab": {}
      },
      "source": [
        "from bs4 import BeautifulSoup\n",
        "import urllib.request\n",
        "import re\n",
        "\n",
        "import pandas as pd\n",
        "import numpy as np\n",
        "\n",
        "from urllib.request import Request, urlopen\n",
        "from random import randint,shuffle\n",
        "import time\n",
        "from time import sleep\n"
      ],
      "execution_count": 0,
      "outputs": []
    },
    {
      "cell_type": "code",
      "metadata": {
        "id": "OscN1ilzlDLu",
        "colab_type": "code",
        "outputId": "2beb3841-1dac-4a72-8927-35c35aaaeb80",
        "colab": {
          "base_uri": "https://localhost:8080/",
          "height": 52
        }
      },
      "source": [
        "!pip install user_agent\n",
        "import user_agent\n",
        "from user_agent import generate_user_agent, generate_navigator"
      ],
      "execution_count": 0,
      "outputs": [
        {
          "output_type": "stream",
          "text": [
            "Requirement already satisfied: user_agent in /usr/local/lib/python3.6/dist-packages (0.1.9)\n",
            "Requirement already satisfied: six in /usr/local/lib/python3.6/dist-packages (from user_agent) (1.12.0)\n"
          ],
          "name": "stdout"
        }
      ]
    },
    {
      "cell_type": "markdown",
      "metadata": {
        "id": "CAMpL2LxsDZz",
        "colab_type": "text"
      },
      "source": [
        "## Scraping News Websites for traffic news"
      ]
    },
    {
      "cell_type": "markdown",
      "metadata": {
        "id": "bVpq5q0YsO2w",
        "colab_type": "text"
      },
      "source": [
        "### Skysports\n",
        "Skysports does not hold old transfer news (only 12 pages of it) on their website but they are lenient when it comes to scrappers"
      ]
    },
    {
      "cell_type": "code",
      "metadata": {
        "id": "oH5ee9Nqy3mn",
        "colab_type": "code",
        "colab": {}
      },
      "source": [
        "content = []\n",
        "skysports = [\n",
        "       \"https://www.skysports.com/football/transfer-news\",\n",
        "       \"https://www.skysports.com/football/transfer-news/more/2\",\n",
        "       \"https://www.skysports.com/football/transfer-news/more/3\",\n",
        "       \"https://www.skysports.com/football/transfer-news/more/4\",\n",
        "       \"https://www.skysports.com/football/transfer-news/more/5\",\n",
        "       \"https://www.skysports.com/football/transfer-news/more/6\",\n",
        "       \"https://www.skysports.com/football/transfer-news/more/7\",\n",
        "       \"https://www.skysports.com/football/transfer-news/more/8\",\n",
        "       \"https://www.skysports.com/football/transfer-news/more/9\",\n",
        "       \"https://www.skysports.com/football/transfer-news/more/10\",\n",
        "       \"https://www.skysports.com/football/transfer-news/more/11\",\n",
        "       \"https://www.skysports.com/football/transfer-news/more/12\"\n",
        "       ]\n",
        "for url in skysports:\n",
        "    page = urllib.request.urlopen(url)\n",
        "    soup = BeautifulSoup(page, 'html.parser')\n",
        "    regex = re.compile('news-item')\n",
        "    content_lis = soup.find_all('div', attrs={'class': regex})\n",
        "    for div in content_lis:\n",
        "        title = div.find('h2').getText()\n",
        "        link = div.find('a')[\"href\"]\n",
        "        x = re.search(\"^/transfer\" , link)\n",
        "        if x != None :\n",
        "          link = \"https://www.skysports.com\" + link;\n",
        "        topic = div.find('strong').getText().strip()\n",
        "        newspage = urllib.request.urlopen(link)\n",
        "        tsoup = BeautifulSoup(newspage, 'html.parser')\n",
        "        try:\n",
        "          article_title = tsoup.find('h1').getText()\n",
        "        except:\n",
        "          article_title = \"\"\n",
        "        try:\n",
        "          article_subtitle = tsoup.find('h2').getText()\n",
        "        except:\n",
        "          article_subtitle = \"\"\n",
        "        h3_array = tsoup.find_all('h3')\n",
        "        article_part = []\n",
        "        for h3 in h3_array : \n",
        "            article_part.append(h3.getText())\n",
        "        article_part = '\\n'.join(article_part)\n",
        "        p_array = tsoup.find_all('p')\n",
        "        article_content = []\n",
        "        for h3 in p_array : \n",
        "            article_content.append(h3.getText())\n",
        "        article_content = '\\n'.join(article_content)\n",
        "        regex = re.compile(\"highlight\")\n",
        "        try:\n",
        "          date = tsoup.find(\"span\" , attrs={\"class\":regex}).getText()\n",
        "        except:\n",
        "          date = \"\"\n",
        "        article = {\n",
        "            \"url\" : link ,\n",
        "            \"subscript\" : title ,\n",
        "            \"topic\" : topic ,\n",
        "            \"title\" : article_title ,\n",
        "            \"subtitle\" : article_subtitle ,\n",
        "            \"emphasis\" : article_part ,\n",
        "            \"content\" : article_content ,\n",
        "            \"date\" : date\n",
        "        }\n",
        "        content.append(article)\n",
        "df = pd.DataFrame(content)\n",
        "df.to_csv(\"skysport_data.csv\")"
      ],
      "execution_count": 0,
      "outputs": []
    },
    {
      "cell_type": "markdown",
      "metadata": {
        "id": "S89Smkn_sibj",
        "colab_type": "text"
      },
      "source": [
        "### Goal\n",
        "Goal.com has all its articles accessible but they have a strict robots.txt so we'll have to use a user agent to scrape data\n",
        "We'll also put a time delay as we are scraping a lot of information we do not want overload their servers with requests.\n",
        "\n",
        "* **Irresponsible web scraping can get you blocked from websites** \n",
        "* **Data scraped belongs to goal.com. Any form of redistribution will have legal consequences**"
      ]
    },
    {
      "cell_type": "code",
      "metadata": {
        "id": "KA3_Dp_j6uNc",
        "colab_type": "code",
        "colab": {}
      },
      "source": [
        "headers = {'User-Agent': generate_user_agent()}\n",
        "content = []\n",
        "links = []\n",
        "goal = [\n",
        "        \"https://www.goal.com/en-us/transfer-news\"\n",
        "       ]\n",
        "for i in range(2,501):\n",
        "  new_url = goal[0]+\"/\"+str(i)\n",
        "  goal.append(new_url)\n",
        "shuffle(goal)"
      ],
      "execution_count": 0,
      "outputs": []
    },
    {
      "cell_type": "code",
      "metadata": {
        "id": "RwM6COoP7-qV",
        "colab_type": "code",
        "colab": {}
      },
      "source": [
        "import time\n",
        "n = 0\n",
        "program_starts = time.time()\n",
        "for url in goal:\n",
        "  print(url)\n",
        "  now = time.time()\n",
        "  print(\"{0} sites have been scraped .It has been {1} seconds\".format(n,now - program_starts))\n",
        "  sleep(randint(1,30))\n",
        "  request = Request(url, headers=headers)\n",
        "  page = urllib.request.urlopen(request)\n",
        "  soup = BeautifulSoup(page, 'html.parser')\n",
        "  content_lis = soup.find_all('article')\n",
        "  for article in content_lis :\n",
        "    regex = re.compile(\"article\")\n",
        "    link = article.find('a', attrs={'class': regex})\n",
        "    if link != None:\n",
        "      link = \"https://www.goal.com\"+link[\"href\"]  \n",
        "      links.append(link)\n",
        "  n = n + 1\n",
        "links = pd.DataFrame(links)\n",
        "links.to_csv(\"goal.csv\")  "
      ],
      "execution_count": 0,
      "outputs": []
    },
    {
      "cell_type": "code",
      "metadata": {
        "id": "OlHH0CsqgGtm",
        "colab_type": "code",
        "colab": {}
      },
      "source": [
        "df = pd.DataFrame()\n",
        "links = pd.read_csv(\"goal.csv\")\n",
        "links = list(links[\"0\"])"
      ],
      "execution_count": 0,
      "outputs": []
    },
    {
      "cell_type": "code",
      "metadata": {
        "id": "jIUjjbElOr-c",
        "colab_type": "code",
        "colab": {}
      },
      "source": [
        "shuffle(links)"
      ],
      "execution_count": 0,
      "outputs": []
    },
    {
      "cell_type": "code",
      "metadata": {
        "id": "6ivCRgVbO5LD",
        "colab_type": "code",
        "outputId": "216ae3f0-aa33-4564-934c-50b11d3fa7f1",
        "colab": {
          "base_uri": "https://localhost:8080/",
          "height": 34
        }
      },
      "source": [
        "from tqdm import tqdm\n",
        "headers = {'User-Agent': generate_user_agent()}\n",
        "n = 0\n",
        "program_starts = time.time()\n",
        "for url in tqdm(links):\n",
        "  try:\n",
        "    n = n+1\n",
        "    request = Request(url, headers=headers)\n",
        "    page = urllib.request.urlopen(request)\n",
        "    soup = BeautifulSoup(page, 'html.parser')\n",
        "    try:\n",
        "      article_title = soup.find(\"h1\").getText()\n",
        "    except:\n",
        "      article_title = \"\"\n",
        "    try:\n",
        "      regex = re.compile(\"teaser\")\n",
        "      article_subtitle = soup.find(\"div\",attrs={\"class\" : regex}).getText()\n",
        "    except:\n",
        "      article_subtitle = \"\"\n",
        "    h3_array = soup.find_all('h2')\n",
        "    article_part = []\n",
        "    for h3 in h3_array : \n",
        "        article_part.append(h3.getText())\n",
        "    article_part = '\\n'.join(article_part)\n",
        "    p_array = soup.find_all('p')\n",
        "    article_content = []\n",
        "    for h3 in p_array : \n",
        "        article_content.append(h3.getText())\n",
        "    article_content = '\\n'.join(article_content)\n",
        "    regex = re.compile(\"tags-list__link\")\n",
        "    taglist = soup.find_all(\"a\",attrs={\"class\" : regex})\n",
        "    tags = []\n",
        "    for tag in taglist:\n",
        "      tags.append(tag.getText())\n",
        "    topic = '+'.join(tags)\n",
        "    datetag = soup.find(\"time\")\n",
        "    date = datetag.getText()\n",
        "    article = {\n",
        "              \"url\" : url ,\n",
        "              \"subscript\" : article_title ,\n",
        "              \"topic\" : topic ,\n",
        "              \"title\" : article_title ,\n",
        "              \"subtitle\" : article_subtitle ,\n",
        "              \"emphasis\" : article_part ,\n",
        "              \"content\" : article_content ,\n",
        "              \"date\" : date.strip()\n",
        "          }\n",
        "    df = df.append(article , ignore_index=True)  \n",
        "    df.to_csv(\"transfer_data.csv\")\n",
        "  except:\n",
        "    n=n-1"
      ],
      "execution_count": 0,
      "outputs": [
        {
          "output_type": "stream",
          "text": [
            "100%|██████████| 13013/13013 [5:48:17<00:00,  1.61s/it]\n"
          ],
          "name": "stderr"
        }
      ]
    },
    {
      "cell_type": "code",
      "metadata": {
        "id": "XdXZFGu1aX-1",
        "colab_type": "code",
        "outputId": "1cc921e6-503d-420d-cff9-25144125a8f3",
        "colab": {
          "base_uri": "https://localhost:8080/",
          "height": 34
        }
      },
      "source": [
        "df.shape"
      ],
      "execution_count": 0,
      "outputs": [
        {
          "output_type": "execute_result",
          "data": {
            "text/plain": [
              "(12875, 8)"
            ]
          },
          "metadata": {
            "tags": []
          },
          "execution_count": 6
        }
      ]
    },
    {
      "cell_type": "markdown",
      "metadata": {
        "id": "_LiFj8nDuXQj",
        "colab_type": "text"
      },
      "source": [
        "# Analysis of transfer reports\n"
      ]
    },
    {
      "cell_type": "markdown",
      "metadata": {
        "id": "UQ5Jx6PbYmhe",
        "colab_type": "text"
      },
      "source": [
        "## Training name entity recognition"
      ]
    },
    {
      "cell_type": "code",
      "metadata": {
        "id": "wvh9xwf-kK8T",
        "colab_type": "code",
        "outputId": "8261358a-b886-46be-cecd-b81c935b76ec",
        "colab": {
          "base_uri": "https://localhost:8080/",
          "height": 124
        }
      },
      "source": [
        "from google.colab import drive\n",
        "drive.mount(\"/content/gdrive\")"
      ],
      "execution_count": 0,
      "outputs": [
        {
          "output_type": "stream",
          "text": [
            "Go to this URL in a browser: https://accounts.google.com/o/oauth2/auth?client_id=947318989803-6bn6qk8qdgf4n4g3pfee6491hc0brc4i.apps.googleusercontent.com&redirect_uri=urn%3aietf%3awg%3aoauth%3a2.0%3aoob&response_type=code&scope=email%20https%3a%2f%2fwww.googleapis.com%2fauth%2fdocs.test%20https%3a%2f%2fwww.googleapis.com%2fauth%2fdrive%20https%3a%2f%2fwww.googleapis.com%2fauth%2fdrive.photos.readonly%20https%3a%2f%2fwww.googleapis.com%2fauth%2fpeopleapi.readonly\n",
            "\n",
            "Enter your authorization code:\n",
            "··········\n",
            "Mounted at /content/gdrive\n"
          ],
          "name": "stdout"
        }
      ]
    },
    {
      "cell_type": "code",
      "metadata": {
        "id": "tg-fuNJwxS-D",
        "colab_type": "code",
        "colab": {}
      },
      "source": [
        "import pandas as pd\n",
        "import spacy\n",
        "from spacy import displacy\n",
        "import numpy"
      ],
      "execution_count": 0,
      "outputs": []
    },
    {
      "cell_type": "code",
      "metadata": {
        "id": "zuwJkn-JkzUk",
        "colab_type": "code",
        "colab": {}
      },
      "source": [
        "df = pd.read_csv(\"/content/gdrive/My Drive/project stuff/transfer_data.csv\")"
      ],
      "execution_count": 0,
      "outputs": []
    },
    {
      "cell_type": "code",
      "metadata": {
        "id": "-pPfmc_7lP7K",
        "colab_type": "code",
        "outputId": "92ef1bf2-00cb-40e0-eb85-59fdea0b0dbf",
        "colab": {
          "base_uri": "https://localhost:8080/",
          "height": 597
        }
      },
      "source": [
        "df"
      ],
      "execution_count": 0,
      "outputs": [
        {
          "output_type": "execute_result",
          "data": {
            "text/html": [
              "<div>\n",
              "<style scoped>\n",
              "    .dataframe tbody tr th:only-of-type {\n",
              "        vertical-align: middle;\n",
              "    }\n",
              "\n",
              "    .dataframe tbody tr th {\n",
              "        vertical-align: top;\n",
              "    }\n",
              "\n",
              "    .dataframe thead th {\n",
              "        text-align: right;\n",
              "    }\n",
              "</style>\n",
              "<table border=\"1\" class=\"dataframe\">\n",
              "  <thead>\n",
              "    <tr style=\"text-align: right;\">\n",
              "      <th></th>\n",
              "      <th>content</th>\n",
              "      <th>date</th>\n",
              "      <th>emphasis</th>\n",
              "      <th>subscript</th>\n",
              "      <th>subtitle</th>\n",
              "      <th>title</th>\n",
              "      <th>topic</th>\n",
              "      <th>url</th>\n",
              "    </tr>\n",
              "  </thead>\n",
              "  <tbody>\n",
              "    <tr>\n",
              "      <th>0</th>\n",
              "      <td>Kane suffered a serious set-back on New Year'...</td>\n",
              "      <td>1/9/20</td>\n",
              "      <td>Trending News</td>\n",
              "      <td>Dembele on Tottenham's radar following Kane su...</td>\n",
              "      <td>News that the England striker will miss at le...</td>\n",
              "      <td>Dembele on Tottenham's radar following Kane su...</td>\n",
              "      <td>Transfers + Tottenham Hotspur + Olympique Lyo...</td>\n",
              "      <td>https://www.goal.com/en-us/news/dembele-on-tot...</td>\n",
              "    </tr>\n",
              "    <tr>\n",
              "      <th>1</th>\n",
              "      <td>Cristian Tello will leave Barcelona to join R...</td>\n",
              "      <td>6/30/17</td>\n",
              "      <td>Trending News</td>\n",
              "      <td>Tello to join Real Betis from Barcelona in €5m...</td>\n",
              "      <td>After re-signing Gerard Deulofeu, the Catalan...</td>\n",
              "      <td>Tello to join Real Betis from Barcelona in €5m...</td>\n",
              "      <td>Transfers + Primera División + Tello + Real B...</td>\n",
              "      <td>https://www.goal.com/en-us/news/cristian-tello...</td>\n",
              "    </tr>\n",
              "    <tr>\n",
              "      <th>2</th>\n",
              "      <td>Pep Guardiola accepts Nicolas Otamendi is not...</td>\n",
              "      <td>1/22/19</td>\n",
              "      <td>Trending News</td>\n",
              "      <td>'I don't want sad players here' - Guardiola ad...</td>\n",
              "      <td>Nicolas Otamendi has drifted out of favour at...</td>\n",
              "      <td>'I don't want sad players here' - Guardiola ad...</td>\n",
              "      <td>Transfers + Manchester City + Nicolás Otamend...</td>\n",
              "      <td>https://www.goal.com/en-us/news/i-dont-want-sa...</td>\n",
              "    </tr>\n",
              "    <tr>\n",
              "      <th>3</th>\n",
              "      <td>Paul Clement has warned in-demand Gylfi Sigur...</td>\n",
              "      <td>5/19/17</td>\n",
              "      <td>Trending News</td>\n",
              "      <td>Sigurdsson should remember Tottenham disappoin...</td>\n",
              "      <td>The Iceland international was unable to secur...</td>\n",
              "      <td>Sigurdsson should remember Tottenham disappoin...</td>\n",
              "      <td>Transfers + Swansea City + Tottenham Hotspur ...</td>\n",
              "      <td>https://www.goal.com/en-us/news/premier-league...</td>\n",
              "    </tr>\n",
              "    <tr>\n",
              "      <th>4</th>\n",
              "      <td>Neymar’s father has refuted reports suggestin...</td>\n",
              "      <td>7/2/19</td>\n",
              "      <td>Trending News</td>\n",
              "      <td>Neymar's father offers update on transfer plan...</td>\n",
              "      <td>Reports suggesting that discussions with Camp...</td>\n",
              "      <td>Neymar's father offers update on transfer plan...</td>\n",
              "      <td>Transfers + Barcelona + Neymar + Primera Divi...</td>\n",
              "      <td>https://www.goal.com/en-us/news/neymars-father...</td>\n",
              "    </tr>\n",
              "    <tr>\n",
              "      <th>...</th>\n",
              "      <td>...</td>\n",
              "      <td>...</td>\n",
              "      <td>...</td>\n",
              "      <td>...</td>\n",
              "      <td>...</td>\n",
              "      <td>...</td>\n",
              "      <td>...</td>\n",
              "      <td>...</td>\n",
              "    </tr>\n",
              "    <tr>\n",
              "      <th>12870</th>\n",
              "      <td>Antoine Griezmann understands why Atletico Ma...</td>\n",
              "      <td>6/19/18</td>\n",
              "      <td>Trending News\\nRelated</td>\n",
              "      <td>Griezmann understands Atletico fans' nerves ov...</td>\n",
              "      <td>After Barcelona were linked with signing the ...</td>\n",
              "      <td>Griezmann understands Atletico fans' nerves ov...</td>\n",
              "      <td>Transfers + Atlético Madrid + Atlético Madrid...</td>\n",
              "      <td>https://www.goal.com/en-us/news/griezmann-unde...</td>\n",
              "    </tr>\n",
              "    <tr>\n",
              "      <th>12871</th>\n",
              "      <td>Victor Lindelof has spoken of the continued s...</td>\n",
              "      <td>4/4/17</td>\n",
              "      <td>Trending News</td>\n",
              "      <td>Lindelof breaks silence over Man Utd links</td>\n",
              "      <td>The defender has long been linked with a move...</td>\n",
              "      <td>Lindelof breaks silence over Man Utd links</td>\n",
              "      <td>Benfica + Manchester United + Premier League ...</td>\n",
              "      <td>https://www.goal.com/en-us/news/lindelof-break...</td>\n",
              "    </tr>\n",
              "    <tr>\n",
              "      <th>12872</th>\n",
              "      <td>Sydney FC are believed to be interested in si...</td>\n",
              "      <td>12/5/17</td>\n",
              "      <td>Trending News\\nRelated</td>\n",
              "      <td>The Covert Agent: Sydney FC interested in snar...</td>\n",
              "      <td>EXCLUSIVE: Goal's resident spy reveals Graham...</td>\n",
              "      <td>The Covert Agent: Sydney FC interested in snar...</td>\n",
              "      <td>Transfers + A-League + Sydney + Nick Fitzgera...</td>\n",
              "      <td>https://www.goal.com/en-us/news/the-covert-age...</td>\n",
              "    </tr>\n",
              "    <tr>\n",
              "      <th>12873</th>\n",
              "      <td>Luka Jovic said his dream has come true after...</td>\n",
              "      <td>6/6/19</td>\n",
              "      <td>Trending News</td>\n",
              "      <td>'My dream comes true now' - Madrid recruit Jov...</td>\n",
              "      <td>The forward said his goodbyes to the German s...</td>\n",
              "      <td>'My dream comes true now' - Madrid recruit Jov...</td>\n",
              "      <td>Transfers + Real Madrid + Luka Jović + Primer...</td>\n",
              "      <td>https://www.goal.com/en-us/news/my-dream-comes...</td>\n",
              "    </tr>\n",
              "    <tr>\n",
              "      <th>12874</th>\n",
              "      <td>Barcelona have moved to rule out any suggesti...</td>\n",
              "      <td>8/28/17</td>\n",
              "      <td>Trending News\\nRelated</td>\n",
              "      <td>Barcelona move to rule out Messi and Iniesta e...</td>\n",
              "      <td>The La Liga giants have sought to end any sug...</td>\n",
              "      <td>Barcelona move to rule out Messi and Iniesta e...</td>\n",
              "      <td>Transfers + Barcelona + Primera División + Li...</td>\n",
              "      <td>https://www.goal.com/en-us/news/barcelona-move...</td>\n",
              "    </tr>\n",
              "  </tbody>\n",
              "</table>\n",
              "<p>12580 rows × 8 columns</p>\n",
              "</div>"
            ],
            "text/plain": [
              "                                                 content  ...                                                url\n",
              "0       Kane suffered a serious set-back on New Year'...  ...  https://www.goal.com/en-us/news/dembele-on-tot...\n",
              "1       Cristian Tello will leave Barcelona to join R...  ...  https://www.goal.com/en-us/news/cristian-tello...\n",
              "2       Pep Guardiola accepts Nicolas Otamendi is not...  ...  https://www.goal.com/en-us/news/i-dont-want-sa...\n",
              "3       Paul Clement has warned in-demand Gylfi Sigur...  ...  https://www.goal.com/en-us/news/premier-league...\n",
              "4       Neymar’s father has refuted reports suggestin...  ...  https://www.goal.com/en-us/news/neymars-father...\n",
              "...                                                  ...  ...                                                ...\n",
              "12870   Antoine Griezmann understands why Atletico Ma...  ...  https://www.goal.com/en-us/news/griezmann-unde...\n",
              "12871   Victor Lindelof has spoken of the continued s...  ...  https://www.goal.com/en-us/news/lindelof-break...\n",
              "12872   Sydney FC are believed to be interested in si...  ...  https://www.goal.com/en-us/news/the-covert-age...\n",
              "12873   Luka Jovic said his dream has come true after...  ...  https://www.goal.com/en-us/news/my-dream-comes...\n",
              "12874   Barcelona have moved to rule out any suggesti...  ...  https://www.goal.com/en-us/news/barcelona-move...\n",
              "\n",
              "[12580 rows x 8 columns]"
            ]
          },
          "metadata": {
            "tags": []
          },
          "execution_count": 174
        }
      ]
    },
    {
      "cell_type": "code",
      "metadata": {
        "id": "Pk3_1fSRxYl6",
        "colab_type": "code",
        "colab": {}
      },
      "source": [
        "import matplotlib.pyplot as plt\n",
        "%matplotlib inline"
      ],
      "execution_count": 0,
      "outputs": []
    },
    {
      "cell_type": "code",
      "metadata": {
        "id": "DLSF86R5xh_2",
        "colab_type": "code",
        "outputId": "e871e104-4e46-4edc-ec4e-a87a19047469",
        "colab": {
          "base_uri": "https://localhost:8080/",
          "height": 593
        }
      },
      "source": [
        "!python -m spacy download en_core_web_md"
      ],
      "execution_count": 0,
      "outputs": [
        {
          "output_type": "stream",
          "text": [
            "Collecting en_core_web_md==2.2.5\n",
            "\u001b[?25l  Downloading https://github.com/explosion/spacy-models/releases/download/en_core_web_md-2.2.5/en_core_web_md-2.2.5.tar.gz (96.4MB)\n",
            "\u001b[K     |████████████████████████████████| 96.4MB 1.1MB/s \n",
            "\u001b[?25hRequirement already satisfied: spacy>=2.2.2 in /usr/local/lib/python3.6/dist-packages (from en_core_web_md==2.2.5) (2.2.4)\n",
            "Requirement already satisfied: plac<1.2.0,>=0.9.6 in /usr/local/lib/python3.6/dist-packages (from spacy>=2.2.2->en_core_web_md==2.2.5) (1.1.3)\n",
            "Requirement already satisfied: wasabi<1.1.0,>=0.4.0 in /usr/local/lib/python3.6/dist-packages (from spacy>=2.2.2->en_core_web_md==2.2.5) (0.6.0)\n",
            "Requirement already satisfied: cymem<2.1.0,>=2.0.2 in /usr/local/lib/python3.6/dist-packages (from spacy>=2.2.2->en_core_web_md==2.2.5) (2.0.3)\n",
            "Requirement already satisfied: thinc==7.4.0 in /usr/local/lib/python3.6/dist-packages (from spacy>=2.2.2->en_core_web_md==2.2.5) (7.4.0)\n",
            "Requirement already satisfied: blis<0.5.0,>=0.4.0 in /usr/local/lib/python3.6/dist-packages (from spacy>=2.2.2->en_core_web_md==2.2.5) (0.4.1)\n",
            "Requirement already satisfied: preshed<3.1.0,>=3.0.2 in /usr/local/lib/python3.6/dist-packages (from spacy>=2.2.2->en_core_web_md==2.2.5) (3.0.2)\n",
            "Requirement already satisfied: catalogue<1.1.0,>=0.0.7 in /usr/local/lib/python3.6/dist-packages (from spacy>=2.2.2->en_core_web_md==2.2.5) (1.0.0)\n",
            "Requirement already satisfied: murmurhash<1.1.0,>=0.28.0 in /usr/local/lib/python3.6/dist-packages (from spacy>=2.2.2->en_core_web_md==2.2.5) (1.0.2)\n",
            "Requirement already satisfied: setuptools in /usr/local/lib/python3.6/dist-packages (from spacy>=2.2.2->en_core_web_md==2.2.5) (46.0.0)\n",
            "Requirement already satisfied: numpy>=1.15.0 in /usr/local/lib/python3.6/dist-packages (from spacy>=2.2.2->en_core_web_md==2.2.5) (1.18.2)\n",
            "Requirement already satisfied: requests<3.0.0,>=2.13.0 in /usr/local/lib/python3.6/dist-packages (from spacy>=2.2.2->en_core_web_md==2.2.5) (2.21.0)\n",
            "Requirement already satisfied: tqdm<5.0.0,>=4.38.0 in /usr/local/lib/python3.6/dist-packages (from spacy>=2.2.2->en_core_web_md==2.2.5) (4.38.0)\n",
            "Requirement already satisfied: srsly<1.1.0,>=1.0.2 in /usr/local/lib/python3.6/dist-packages (from spacy>=2.2.2->en_core_web_md==2.2.5) (1.0.2)\n",
            "Requirement already satisfied: importlib-metadata>=0.20; python_version < \"3.8\" in /usr/local/lib/python3.6/dist-packages (from catalogue<1.1.0,>=0.0.7->spacy>=2.2.2->en_core_web_md==2.2.5) (1.6.0)\n",
            "Requirement already satisfied: chardet<3.1.0,>=3.0.2 in /usr/local/lib/python3.6/dist-packages (from requests<3.0.0,>=2.13.0->spacy>=2.2.2->en_core_web_md==2.2.5) (3.0.4)\n",
            "Requirement already satisfied: idna<2.9,>=2.5 in /usr/local/lib/python3.6/dist-packages (from requests<3.0.0,>=2.13.0->spacy>=2.2.2->en_core_web_md==2.2.5) (2.8)\n",
            "Requirement already satisfied: certifi>=2017.4.17 in /usr/local/lib/python3.6/dist-packages (from requests<3.0.0,>=2.13.0->spacy>=2.2.2->en_core_web_md==2.2.5) (2019.11.28)\n",
            "Requirement already satisfied: urllib3<1.25,>=1.21.1 in /usr/local/lib/python3.6/dist-packages (from requests<3.0.0,>=2.13.0->spacy>=2.2.2->en_core_web_md==2.2.5) (1.24.3)\n",
            "Requirement already satisfied: zipp>=0.5 in /usr/local/lib/python3.6/dist-packages (from importlib-metadata>=0.20; python_version < \"3.8\"->catalogue<1.1.0,>=0.0.7->spacy>=2.2.2->en_core_web_md==2.2.5) (3.1.0)\n",
            "Building wheels for collected packages: en-core-web-md\n",
            "  Building wheel for en-core-web-md (setup.py) ... \u001b[?25l\u001b[?25hdone\n",
            "  Created wheel for en-core-web-md: filename=en_core_web_md-2.2.5-cp36-none-any.whl size=98051305 sha256=9ca508bde0a3e28f0e4d4316108ba34b0e7dd2852329748a0dfd68ca812c4597\n",
            "  Stored in directory: /tmp/pip-ephem-wheel-cache-xgrktl1f/wheels/df/94/ad/f5cf59224cea6b5686ac4fd1ad19c8a07bc026e13c36502d81\n",
            "Successfully built en-core-web-md\n",
            "Installing collected packages: en-core-web-md\n",
            "Successfully installed en-core-web-md-2.2.5\n",
            "\u001b[38;5;2m✔ Download and installation successful\u001b[0m\n",
            "You can now load the model via spacy.load('en_core_web_md')\n"
          ],
          "name": "stdout"
        }
      ]
    },
    {
      "cell_type": "code",
      "metadata": {
        "id": "HxQbVagG5Gj0",
        "colab_type": "code",
        "colab": {}
      },
      "source": [
        "import en_core_web_md"
      ],
      "execution_count": 0,
      "outputs": []
    },
    {
      "cell_type": "code",
      "metadata": {
        "id": "4_3Cn1uPxo60",
        "colab_type": "code",
        "colab": {}
      },
      "source": [
        "nlp = en_core_web_md.load()\n",
        "doc = nlp(u\"Kylian Mbappe to force a move from Paris Saint Germain to join Real Madrid in 2021\")"
      ],
      "execution_count": 0,
      "outputs": []
    },
    {
      "cell_type": "code",
      "metadata": {
        "id": "y9f18cIhx5c1",
        "colab_type": "code",
        "outputId": "ae5ea77b-4af9-488b-d6f7-3a03ed0f54b1",
        "colab": {
          "base_uri": "https://localhost:8080/",
          "height": 86
        }
      },
      "source": [
        "for token in doc.ents :\n",
        "  print(token.text,spacy.explain(token.label_))"
      ],
      "execution_count": 0,
      "outputs": [
        {
          "output_type": "stream",
          "text": [
            "Kylian Mbappe People, including fictional\n",
            "Paris Saint Germain Buildings, airports, highways, bridges, etc.\n",
            "Real Madrid Companies, agencies, institutions, etc.\n",
            "2021 Absolute or relative dates or periods\n"
          ],
          "name": "stdout"
        }
      ]
    },
    {
      "cell_type": "code",
      "metadata": {
        "id": "td7bNgXAY__S",
        "colab_type": "code",
        "colab": {}
      },
      "source": [
        "from bs4 import BeautifulSoup\n",
        "import urllib.request\n",
        "from urllib.request import Request, urlopen\n",
        "import re"
      ],
      "execution_count": 0,
      "outputs": []
    },
    {
      "cell_type": "code",
      "metadata": {
        "id": "jrpE0MCPZEXz",
        "colab_type": "code",
        "outputId": "93b642a1-1c50-4b50-eff9-eb7177ff24df",
        "colab": {
          "base_uri": "https://localhost:8080/",
          "height": 191
        }
      },
      "source": [
        "!pip install user_agent\n",
        "import user_agent\n",
        "from user_agent import generate_user_agent, generate_navigator"
      ],
      "execution_count": 0,
      "outputs": [
        {
          "output_type": "stream",
          "text": [
            "Collecting user_agent\n",
            "  Downloading https://files.pythonhosted.org/packages/c3/ca/15546284f62edfec7666ecb6403a6e77f5db850def37cd36f140d99cce02/user_agent-0.1.9.tar.gz\n",
            "Requirement already satisfied: six in /usr/local/lib/python3.6/dist-packages (from user_agent) (1.12.0)\n",
            "Building wheels for collected packages: user-agent\n",
            "  Building wheel for user-agent (setup.py) ... \u001b[?25l\u001b[?25hdone\n",
            "  Created wheel for user-agent: filename=user_agent-0.1.9-cp36-none-any.whl size=18807 sha256=b444b63614071842f423ca822d27d034bc6922592a1ea3d4f900f35caf3aa091\n",
            "  Stored in directory: /root/.cache/pip/wheels/92/80/3f/5d79277825042f2d4d447f594e3fc046f1e506f2b481d364b2\n",
            "Successfully built user-agent\n",
            "Installing collected packages: user-agent\n",
            "Successfully installed user-agent-0.1.9\n"
          ],
          "name": "stdout"
        }
      ]
    },
    {
      "cell_type": "code",
      "metadata": {
        "id": "LruUemNpZUr6",
        "colab_type": "code",
        "colab": {}
      },
      "source": [
        "headers = {'User-Agent': generate_user_agent()}\n",
        "url = \"https://www.uefa.com/memberassociations/leaguesandcups/index.html\" \n",
        "request = Request(url, headers=headers)\n",
        "page = urllib.request.urlopen(request)\n",
        "soup = BeautifulSoup(page, 'html.parser')\n",
        "regex = re.compile('^\\d+')\n",
        "countries = [(x.text,\"https://www.uefa.com/\"+x.find(\"a\")[\"href\"]) for x in soup.find_all('li', attrs={'class': regex})]"
      ],
      "execution_count": 0,
      "outputs": []
    },
    {
      "cell_type": "code",
      "metadata": {
        "id": "y_AcwN4-a5rI",
        "colab_type": "code",
        "colab": {}
      },
      "source": [
        "teams = []\n",
        "for country,url in countries:\n",
        "  request = Request(url, headers=headers)\n",
        "  page = urllib.request.urlopen(request)\n",
        "  soup = BeautifulSoup(page, 'html.parser')\n",
        "  regex = re.compile('^club')\n",
        "  teams = teams + [(team.text , \"https://www.uefa.com/\"+team.find(\"a\")[\"href\"],country) for team in soup.find_all(\"td\" , attrs={\"class\",regex})]"
      ],
      "execution_count": 0,
      "outputs": []
    },
    {
      "cell_type": "code",
      "metadata": {
        "id": "wD2kSijieqdU",
        "colab_type": "code",
        "outputId": "dfaac7c2-f9bd-4268-b5d4-dd0f0c432b4a",
        "colab": {
          "base_uri": "https://localhost:8080/",
          "height": 34
        }
      },
      "source": [
        "from tqdm import tqdm\n",
        "players = []\n",
        "for team in tqdm(teams):\n",
        "  url = team[1]\n",
        "  request = Request(url, headers=headers)\n",
        "  page = urllib.request.urlopen(request)\n",
        "  soup = BeautifulSoup(page, 'html.parser')\n",
        "  regex = re.compile('^playername')\n",
        "  players = players + [(x.text,team[0]) for x in soup.find_all(\"td\",attrs={\"class\":regex})]"
      ],
      "execution_count": 0,
      "outputs": [
        {
          "output_type": "stream",
          "text": [
            "100%|██████████| 721/721 [13:56<00:00,  1.16s/it]\n"
          ],
          "name": "stderr"
        }
      ]
    },
    {
      "cell_type": "code",
      "metadata": {
        "id": "6-nAuVsvdgO3",
        "colab_type": "code",
        "colab": {}
      },
      "source": [
        "from random import shuffle\n",
        "shuffle(teams) \n",
        "shuffle(players)"
      ],
      "execution_count": 0,
      "outputs": []
    },
    {
      "cell_type": "code",
      "metadata": {
        "id": "_w1gqixMeniZ",
        "colab_type": "code",
        "colab": {}
      },
      "source": [
        "TRAINING_DATA = []"
      ],
      "execution_count": 0,
      "outputs": []
    },
    {
      "cell_type": "markdown",
      "metadata": {
        "id": "P1ZyxeSaXoOV",
        "colab_type": "text"
      },
      "source": [
        "### Training the named entity recognizer of a en_core_web_md"
      ]
    },
    {
      "cell_type": "code",
      "metadata": {
        "id": "ApBJnM2HXV4X",
        "colab_type": "code",
        "colab": {}
      },
      "source": [
        "LABEL1 = \"TEAM\"\n",
        "LABEL2 = \"PLAYER\""
      ],
      "execution_count": 0,
      "outputs": []
    },
    {
      "cell_type": "code",
      "metadata": {
        "id": "gxbeRnEFeqqJ",
        "colab_type": "code",
        "outputId": "c1dd9563-f867-40ac-e266-3646c3c00e07",
        "colab": {
          "base_uri": "https://localhost:8080/",
          "height": 191
        }
      },
      "source": [
        "for team in teams[:200]:\n",
        "  sentence = team[0]+\" is a club from \"+team[2]+\".\"\n",
        "  ent = {\"entities\" : [(0,len(team[0]),LABEL1),(len(team[0])+16,len(sentence)-1,\"GPE\")]}\n",
        "  TRAINING_DATA = TRAINING_DATA + [(sentence , ent)]\n",
        "print(TRAINING_DATA[-1])\n",
        "\n",
        "for team in teams[200:400]:\n",
        "  sentence = team[0]+\" plays in \"+team[2]+\".\"\n",
        "  ent = {\"entities\" : [(0,len(team[0]),LABEL1),(len(team[0])+10,len(sentence)-1,\"GPE\")]}\n",
        "  TRAINING_DATA = TRAINING_DATA + [(sentence , ent)]\n",
        "print(TRAINING_DATA[-1])\n",
        "\n",
        "for team in teams[400:550]:\n",
        "  sentence = team[0]+\" is a successful club.\"\n",
        "  ent = {\"entities\" : [(0,len(team[0]),LABEL1)]}\n",
        "  TRAINING_DATA = TRAINING_DATA + [(sentence , ent)]\n",
        "print(TRAINING_DATA[-1])\n",
        "\n",
        "for team in teams[550:]:\n",
        "  sentence = \"The \"+team[2]+\" based club \"+team[0]+\".\"\n",
        "  ent = {\"entities\" : [(4,len(team[2]),\"GPE\"),(16+len(team[2]),16+len(team[2])+len(team[0]),LABEL1)]}\n",
        "  TRAINING_DATA = TRAINING_DATA + [(sentence , ent)]\n",
        "print(TRAINING_DATA[-1])\n",
        "\n",
        "for player in players[0:1000]:\n",
        "  sentence = player[0]+\" wants to join \"+player[1]\n",
        "  ent = {\n",
        "      \"entities\" : [\n",
        "                    (0 , len(player[0]) ,LABEL2 ) ,\n",
        "                    (15 + len(player[0]), 15 + len(player[0]) + len(player[1]) , LABEL1)\n",
        "                    ]\n",
        "      }\n",
        "  TRAINING_DATA = TRAINING_DATA + [(sentence , ent)]\n",
        "print(TRAINING_DATA[-1])\n",
        "\n",
        "for player in players[1500:3000]:\n",
        "  sentence = player[0]+\" is looking to leave \"+player[1]\n",
        "  ent = {\n",
        "      \"entities\" : [\n",
        "                    (0 , len(player[0]) ,LABEL2 ) ,\n",
        "                    (21 + len(player[0]), 21 + len(player[0]) + len(player[1]) , LABEL1)\n",
        "                    ]\n",
        "      }\n",
        "  TRAINING_DATA = TRAINING_DATA + [(sentence , ent)]\n",
        "print(TRAINING_DATA[-1])\n",
        "\n",
        "for player in players[3000:4500]:\n",
        "  sentence = player[0]+\" is happy at \"+player[1]\n",
        "  ent = {\n",
        "      \"entities\" : [\n",
        "                    (0 , len(player[0]) ,LABEL2 ) ,\n",
        "                    (13 + len(player[0]), 13 + len(player[0]) + len(player[1]) , LABEL1)\n",
        "                    ]\n",
        "      }\n",
        "  TRAINING_DATA = TRAINING_DATA + [(sentence , ent)]\n",
        "print(TRAINING_DATA[-1])\n",
        "\n",
        "for player in players[4500:6000]:\n",
        "  sentence = player[1]+\" wants to sign \"+player[0]\n",
        "  ent = {\n",
        "      \"entities\" : [\n",
        "                    (0 , len(player[1]) ,LABEL1 ) ,\n",
        "                    (15 + len(player[1]), 15 + len(player[0]) + len(player[1]) , LABEL2)\n",
        "                    ]\n",
        "      }\n",
        "  TRAINING_DATA = TRAINING_DATA + [(sentence , ent)]\n",
        "print(TRAINING_DATA[-1])\n",
        "\n",
        "for player in players[6000:7500]:\n",
        "  sentence = player[1]+\" makes offer for \"+player[0]\n",
        "  ent = {\n",
        "      \"entities\" : [\n",
        "                    (0 , len(player[1]) ,LABEL1 ) ,\n",
        "                    (16 + len(player[1]), 16 + len(player[0]) + len(player[1]) , LABEL2)\n",
        "                    ]\n",
        "      }\n",
        "  TRAINING_DATA = TRAINING_DATA + [(sentence , ent)]\n",
        "print(TRAINING_DATA[-1])\n",
        "\n",
        "for player in players[7500:]:\n",
        "  sentence = player[1]+\" trying to kick out \"+player[0]\n",
        "  ent = {\n",
        "      \"entities\" : [\n",
        "                    (0 , len(player[1]) ,LABEL1 ) ,\n",
        "                    (20 + len(player[1]), 20 + len(player[0]) + len(player[1]) , LABEL2)\n",
        "                    ]\n",
        "      }\n",
        "  TRAINING_DATA = TRAINING_DATA + [(sentence , ent)]\n",
        "print(TRAINING_DATA[-1])\n",
        "\n"
      ],
      "execution_count": 0,
      "outputs": [
        {
          "output_type": "stream",
          "text": [
            "('Vushtrria is a club from Kosovo.', {'entities': [(0, 9, 'TEAM'), (25, 31, 'GPE')]})\n",
            "('FC Rubin plays in Russia.', {'entities': [(0, 8, 'TEAM'), (18, 24, 'GPE')]})\n",
            "('KF Shkëndija is a successful club.', {'entities': [(0, 12, 'TEAM')]})\n",
            "('The Kazakhstan based club FC Zhetysu Taldykorgan.', {'entities': [(4, 10, 'GPE'), (26, 48, 'TEAM')]})\n",
            "('Valentin Gendrey wants to join Amiens', {'entities': [(0, 16, 'PLAYER'), (31, 37, 'TEAM')]})\n",
            "('David Pavelka is looking to leave Kasımpaşa SK', {'entities': [(0, 13, 'PLAYER'), (34, 46, 'TEAM')]})\n",
            "('Chem Campbell is happy at Wolverhampton Wanderers FC', {'entities': [(0, 13, 'PLAYER'), (26, 52, 'TEAM')]})\n",
            "('FC Metz wants to sign Farid Boulaya', {'entities': [(0, 7, 'TEAM'), (22, 35, 'PLAYER')]})\n",
            "('FC St. Gallen makes offer for Fabiano Donato Alves', {'entities': [(0, 13, 'TEAM'), (29, 49, 'PLAYER')]})\n",
            "('RCD Mallorca trying to kick out Ante Budimir', {'entities': [(0, 12, 'TEAM'), (32, 44, 'PLAYER')]})\n"
          ],
          "name": "stdout"
        }
      ]
    },
    {
      "cell_type": "code",
      "metadata": {
        "id": "fsyrNGR4kneE",
        "colab_type": "code",
        "outputId": "1f255857-999f-4d79-b5b6-e49d2d8239af",
        "colab": {
          "base_uri": "https://localhost:8080/",
          "height": 34
        }
      },
      "source": [
        "len(TRAINING_DATA)"
      ],
      "execution_count": 0,
      "outputs": [
        {
          "output_type": "execute_result",
          "data": {
            "text/plain": [
              "9207"
            ]
          },
          "metadata": {
            "tags": []
          },
          "execution_count": 15
        }
      ]
    },
    {
      "cell_type": "code",
      "metadata": {
        "id": "Yr-Q7SBIs64c",
        "colab_type": "code",
        "colab": {}
      },
      "source": [
        "ner = nlp.get_pipe(\"ner\")\n",
        "ner.add_label(LABEL1)\n",
        "ner.add_label(LABEL2)"
      ],
      "execution_count": 0,
      "outputs": []
    },
    {
      "cell_type": "code",
      "metadata": {
        "id": "xhKKJCYqtltI",
        "colab_type": "code",
        "outputId": "118dd7a2-d69e-45ff-cc55-045d9b4af32d",
        "colab": {
          "base_uri": "https://localhost:8080/",
          "height": 72
        }
      },
      "source": [
        "move_names = list(ner.move_names)\n",
        "print(move_names)\n",
        "pipe_exceptions = [\"ner\", \"trf_wordpiecer\", \"trf_tok2vec\"]\n",
        "other_pipes = [pipe for pipe in nlp.pipe_names if pipe not in pipe_exceptions]\n",
        "other_pipes"
      ],
      "execution_count": 0,
      "outputs": [
        {
          "output_type": "stream",
          "text": [
            "['B-ORG', 'B-DATE', 'B-PERSON', 'B-GPE', 'B-MONEY', 'B-CARDINAL', 'B-NORP', 'B-PERCENT', 'B-WORK_OF_ART', 'B-LOC', 'B-TIME', 'B-QUANTITY', 'B-FAC', 'B-EVENT', 'B-ORDINAL', 'B-PRODUCT', 'B-LAW', 'B-LANGUAGE', 'I-ORG', 'I-DATE', 'I-PERSON', 'I-GPE', 'I-MONEY', 'I-CARDINAL', 'I-NORP', 'I-PERCENT', 'I-WORK_OF_ART', 'I-LOC', 'I-TIME', 'I-QUANTITY', 'I-FAC', 'I-EVENT', 'I-ORDINAL', 'I-PRODUCT', 'I-LAW', 'I-LANGUAGE', 'L-ORG', 'L-DATE', 'L-PERSON', 'L-GPE', 'L-MONEY', 'L-CARDINAL', 'L-NORP', 'L-PERCENT', 'L-WORK_OF_ART', 'L-LOC', 'L-TIME', 'L-QUANTITY', 'L-FAC', 'L-EVENT', 'L-ORDINAL', 'L-PRODUCT', 'L-LAW', 'L-LANGUAGE', 'U-ORG', 'U-DATE', 'U-PERSON', 'U-GPE', 'U-MONEY', 'U-CARDINAL', 'U-NORP', 'U-PERCENT', 'U-WORK_OF_ART', 'U-LOC', 'U-TIME', 'U-QUANTITY', 'U-FAC', 'U-EVENT', 'U-ORDINAL', 'U-PRODUCT', 'U-LAW', 'U-LANGUAGE', 'O', 'B-TEAM', 'I-TEAM', 'L-TEAM', 'U-TEAM', 'B-PLAYER', 'I-PLAYER', 'L-PLAYER', 'U-PLAYER']\n"
          ],
          "name": "stdout"
        },
        {
          "output_type": "execute_result",
          "data": {
            "text/plain": [
              "['tagger', 'parser']"
            ]
          },
          "metadata": {
            "tags": []
          },
          "execution_count": 17
        }
      ]
    },
    {
      "cell_type": "code",
      "metadata": {
        "id": "yb7Lf06v7Aw8",
        "colab_type": "code",
        "colab": {}
      },
      "source": [
        "from spacy.util import compounding , minibatch\n",
        "n_iter = 50\n",
        "optimizer = nlp.resume_training()\n",
        "with nlp.disable_pipes(*other_pipes):  # only train NER\n",
        "  sizes = compounding(1.0, 4.0, 1.001)\n",
        "  for itn in tqdm(range(n_iter)):\n",
        "      shuffle(TRAINING_DATA)\n",
        "      batches = minibatch(TRAINING_DATA, size=sizes)\n",
        "      losses = {}\n",
        "      for batch in batches:\n",
        "          texts, annotations = zip(*batch)\n",
        "          nlp.update(texts, annotations, sgd=optimizer, drop=0.35, losses=losses)\n",
        "      print(\"Losses\", losses)"
      ],
      "execution_count": 0,
      "outputs": []
    },
    {
      "cell_type": "code",
      "metadata": {
        "id": "ti3MvdgTO1AU",
        "colab_type": "code",
        "outputId": "be7c3c30-5e5a-4be0-b204-27b8525c64a1",
        "colab": {
          "base_uri": "https://localhost:8080/",
          "height": 52
        }
      },
      "source": [
        "!pip install pathlib\n",
        "from pathlib import Path\n",
        "new_model_name = \"en_fnew_md\"\n",
        "output_dir = \"./content/gdrive/My Drive/project stuff/en_fnew_md\"\n",
        "output_dir = Path(output_dir)\n",
        "if not output_dir.exists():\n",
        "    output_dir.mkdir()\n",
        "nlp.meta[\"name\"] = new_model_name  # rename model\n",
        "nlp.to_disk(output_dir)\n",
        "print(\"Saved model to\", output_dir)"
      ],
      "execution_count": 0,
      "outputs": [
        {
          "output_type": "stream",
          "text": [
            "Requirement already satisfied: pathlib in /usr/local/lib/python3.6/dist-packages (1.0.1)\n",
            "Saved model to en_fnew_md\n"
          ],
          "name": "stdout"
        }
      ]
    },
    {
      "cell_type": "code",
      "metadata": {
        "id": "ehUZalZ3VnRG",
        "colab_type": "code",
        "outputId": "ffea4743-dff5-4c8e-a694-76c7d8d28eb6",
        "colab": {
          "base_uri": "https://localhost:8080/",
          "height": 382
        }
      },
      "source": [
        "!zip -r fmodel.zip en_fnew_md"
      ],
      "execution_count": 0,
      "outputs": [
        {
          "output_type": "stream",
          "text": [
            "updating: en_fnew_md/ (stored 0%)\n",
            "  adding: en_fnew_md/parser/ (stored 0%)\n",
            "  adding: en_fnew_md/parser/model (deflated 7%)\n",
            "  adding: en_fnew_md/parser/moves (deflated 56%)\n",
            "  adding: en_fnew_md/parser/cfg (deflated 49%)\n",
            "  adding: en_fnew_md/meta.json (deflated 46%)\n",
            "  adding: en_fnew_md/tagger/ (stored 0%)\n",
            "  adding: en_fnew_md/tagger/model (deflated 7%)\n",
            "  adding: en_fnew_md/tagger/cfg (deflated 34%)\n",
            "  adding: en_fnew_md/tagger/tag_map (deflated 50%)\n",
            "  adding: en_fnew_md/ner/ (stored 0%)\n",
            "  adding: en_fnew_md/ner/model (deflated 9%)\n",
            "  adding: en_fnew_md/ner/moves (deflated 78%)\n",
            "  adding: en_fnew_md/ner/cfg (deflated 49%)\n",
            "  adding: en_fnew_md/tokenizer (deflated 79%)\n",
            "  adding: en_fnew_md/vocab/ (stored 0%)\n",
            "  adding: en_fnew_md/vocab/key2row (deflated 78%)\n",
            "  adding: en_fnew_md/vocab/strings.json (deflated 61%)\n",
            "  adding: en_fnew_md/vocab/lookups.bin (deflated 45%)\n",
            "  adding: en_fnew_md/vocab/vectors (deflated 9%)\n",
            "  adding: en_fnew_md/vocab/lexemes.bin (deflated 64%)\n"
          ],
          "name": "stdout"
        }
      ]
    },
    {
      "cell_type": "markdown",
      "metadata": {
        "id": "NXYQnwAtXy8u",
        "colab_type": "text"
      },
      "source": [
        "### Completely Training a large language model"
      ]
    },
    {
      "cell_type": "markdown",
      "metadata": {
        "id": "9PKi9zM7XhBF",
        "colab_type": "text"
      },
      "source": [
        "We will be training the dependency parser as well as the named entity recognizer again\n",
        "This time while training the NER we will try making a more natural Training dataset "
      ]
    },
    {
      "cell_type": "markdown",
      "metadata": {
        "id": "rxcoq0nBYV66",
        "colab_type": "text"
      },
      "source": [
        "#### Training the NER (2nd approach)"
      ]
    },
    {
      "cell_type": "code",
      "metadata": {
        "id": "ad9mD3katChr",
        "colab_type": "code",
        "colab": {}
      },
      "source": [
        "LABEL1 = \"TEAM\"\n",
        "LABEL2 = \"PLAYER\""
      ],
      "execution_count": 0,
      "outputs": []
    },
    {
      "cell_type": "code",
      "metadata": {
        "id": "dGBQ3nZ7W5HI",
        "colab_type": "code",
        "outputId": "bf6cd337-c7b1-481c-d9c2-7b510d93204b",
        "colab": {
          "base_uri": "https://localhost:8080/",
          "height": 34
        }
      },
      "source": [
        "players[0]"
      ],
      "execution_count": 0,
      "outputs": [
        {
          "output_type": "execute_result",
          "data": {
            "text/plain": [
              "('Karim Rekik', 'Hertha BSC Berlin')"
            ]
          },
          "metadata": {
            "tags": []
          },
          "execution_count": 21
        }
      ]
    },
    {
      "cell_type": "code",
      "metadata": {
        "id": "Cns6Me4FW5Z6",
        "colab_type": "code",
        "outputId": "0715cccc-ef30-49f2-e478-031e51d19032",
        "colab": {
          "base_uri": "https://localhost:8080/",
          "height": 69
        }
      },
      "source": [
        "teams[0]"
      ],
      "execution_count": 0,
      "outputs": [
        {
          "output_type": "execute_result",
          "data": {
            "text/plain": [
              "('FK Rad',\n",
              " 'https://www.uefa.com//teamsandplayers/teams/club=52827/domestic/index.html',\n",
              " 'Serbia')"
            ]
          },
          "metadata": {
            "tags": []
          },
          "execution_count": 22
        }
      ]
    },
    {
      "cell_type": "code",
      "metadata": {
        "id": "MP5IXSAgaOwX",
        "colab_type": "code",
        "colab": {}
      },
      "source": [
        "templates = [{\"sent\" : x , \"tags\" : y} for x,y in zip( df[\"title\"][0:100] , df[\"topic\"][0:100] )]"
      ],
      "execution_count": 0,
      "outputs": []
    },
    {
      "cell_type": "code",
      "metadata": {
        "id": "715ChkaQaHMK",
        "colab_type": "code",
        "colab": {}
      },
      "source": [
        "for tem in templates:\n",
        "  tags = [x.strip() for x in tem[\"tags\"].split(\"+\")]\n",
        "  doc = nlp(tem[\"sent\"])\n",
        "  tem[\"gaps\"] = []\n",
        "  tem[\"label\"] = []\n",
        "  print(tem[\"sent\"])\n",
        "  print(tags)\n",
        "  for token in doc.ents:\n",
        "    prev = 0\n",
        "    if token.text in tags:\n",
        "      print(token.text , token.label_)\n",
        "    elif token.label_ in [\"PERSON\",\"ORG\",\"GPE\"]:\n",
        "      print(token.text , token.label_)\n",
        "    ltype = input()\n",
        "    if ltype == 'p':\n",
        "      regex = re.compile(token.text)\n",
        "      loc = re.search(regex , tem[\"sent\"]).span()\n",
        "      tem[\"label\"].append(LABEL2)\n",
        "      prev = loc[1]\n",
        "      tem[\"sent\"] = tem[\"sent\"].replace(token.text , \"<PLAYER>\" , 1)\n",
        "    elif ltype == 'o':\n",
        "      regex = re.compile(token.text)\n",
        "      loc = re.search(regex , tem[\"sent\"]).span()\n",
        "      tem[\"label\"].append(LABEL1)\n",
        "      prev = loc[1]\n",
        "      tem[\"sent\"] = tem[\"sent\"].replace(token.text , \"<TEAM>\" , 1)"
      ],
      "execution_count": 0,
      "outputs": []
    },
    {
      "cell_type": "code",
      "metadata": {
        "id": "9tMaL6FG7EIO",
        "colab_type": "code",
        "colab": {}
      },
      "source": [
        "templates = pd.DataFrame(templates)\n",
        "templates.to_csv(\"/content/gdrive/My Drive/project stuff/training_template.csv\")"
      ],
      "execution_count": 0,
      "outputs": []
    },
    {
      "cell_type": "code",
      "metadata": {
        "id": "Wc7FV-95EBO3",
        "colab_type": "code",
        "colab": {}
      },
      "source": [
        "templates = pd.read_csv(\"/content/gdrive/My Drive/project stuff/training_template.csv\")\n",
        "template = list(templates[\"sent\"])"
      ],
      "execution_count": 0,
      "outputs": []
    },
    {
      "cell_type": "code",
      "metadata": {
        "id": "gRVxfm8k9rzt",
        "colab_type": "code",
        "outputId": "48444cee-d080-486b-d22e-0ff7dd861285",
        "colab": {
          "base_uri": "https://localhost:8080/",
          "height": 34
        }
      },
      "source": [
        "def getTrainingSample():\n",
        "  sent = template[randint(0,len(template)-1)]\n",
        "  ent = {\"entities\" : [] }\n",
        "  key = re.search(r\"<\\w+>\" , sent)\n",
        "  while key != None :\n",
        "    if key.group() == \"<PLAYER>\":\n",
        "      player = players[randint(0,len(players)-1)][0]\n",
        "      sent = sent.replace(\"<PLAYER>\" , player , 1)\n",
        "      ent[\"entities\"].append((key.span()[0] , key.span()[0] + len(player) , LABEL2))\n",
        "    elif key.group() == \"<TEAM>\":\n",
        "      team = teams[randint(0,len(teams)-1)][0]\n",
        "      sent = sent.replace(\"<TEAM>\" , team , 1)\n",
        "      ent[\"entities\"].append((key.span()[0] , key.span()[0] + len(team) , LABEL1))\n",
        "    key = re.search(r\"<\\w+>\" , sent)\n",
        "  return (sent , ent)\n",
        "print(getTrainingSample())\n",
        "shuffle(TRAINING_DATA)\n",
        "TRAINING_DATA = TRAINING_DATA[:2500]"
      ],
      "execution_count": 0,
      "outputs": [
        {
          "output_type": "stream",
          "text": [
            "(\"Klopp defiant on Rasmus Lauritsen's Manchester United FC future: 'I know he will be here'\", {'entities': [(17, 33, 'PLAYER'), (36, 56, 'TEAM')]})\n"
          ],
          "name": "stdout"
        }
      ]
    },
    {
      "cell_type": "code",
      "metadata": {
        "id": "GHOcaIAmEtRS",
        "colab_type": "code",
        "colab": {}
      },
      "source": [
        "for i in range(0,2500):\n",
        "  TRAINING_DATA.append(getTrainingSample())"
      ],
      "execution_count": 0,
      "outputs": []
    },
    {
      "cell_type": "code",
      "metadata": {
        "id": "z93WrWlpFSfZ",
        "colab_type": "code",
        "outputId": "e01a123f-8ca0-464f-852e-52347db1c343",
        "colab": {
          "base_uri": "https://localhost:8080/",
          "height": 52
        }
      },
      "source": [
        "import nltk\n",
        "nltk.download(\"brown\")\n",
        "from nltk.corpus import brown\n",
        "for x in brown.fileids()[:10]:\n",
        "  for y in brown.sents(x):\n",
        "    TRAINING_DATA.append((\n",
        "        \" \".join(y).replace(\"`\",\"\").replace(\"'\",\"\") ,\n",
        "        {\"entities\" : []}\n",
        "    ))"
      ],
      "execution_count": 0,
      "outputs": [
        {
          "output_type": "stream",
          "text": [
            "[nltk_data] Downloading package brown to /root/nltk_data...\n",
            "[nltk_data]   Package brown is already up-to-date!\n"
          ],
          "name": "stdout"
        }
      ]
    },
    {
      "cell_type": "code",
      "metadata": {
        "id": "Nu4Z_FkfGKt5",
        "colab_type": "code",
        "outputId": "de634e15-8a71-4d9a-c6d5-dbdc608da460",
        "colab": {
          "base_uri": "https://localhost:8080/",
          "height": 34
        }
      },
      "source": [
        "len(TRAINING_DATA)"
      ],
      "execution_count": 0,
      "outputs": [
        {
          "output_type": "execute_result",
          "data": {
            "text/plain": [
              "6019"
            ]
          },
          "metadata": {
            "tags": []
          },
          "execution_count": 164
        }
      ]
    },
    {
      "cell_type": "code",
      "metadata": {
        "id": "EByRk5zQZBva",
        "colab_type": "code",
        "colab": {}
      },
      "source": [
        "nlp = en_core_web_md.load()"
      ],
      "execution_count": 0,
      "outputs": []
    },
    {
      "cell_type": "code",
      "metadata": {
        "id": "9YhuHCXgnV_h",
        "colab_type": "code",
        "outputId": "ea9656b1-7e0d-4b7c-bb23-e80f5b069973",
        "colab": {
          "base_uri": "https://localhost:8080/",
          "height": 34
        }
      },
      "source": [
        "list(df[\"title\"])[9983]"
      ],
      "execution_count": 0,
      "outputs": [
        {
          "output_type": "execute_result",
          "data": {
            "text/plain": [
              "\"'Leave Real Madrid? I have the same desire to die!' - Navas bullish despite Courtois arrival\""
            ]
          },
          "metadata": {
            "tags": []
          },
          "execution_count": 185
        }
      ]
    },
    {
      "cell_type": "code",
      "metadata": {
        "id": "UoOOo0VLVfzT",
        "colab_type": "code",
        "outputId": "4a57dfc8-052d-46f1-ad34-617c461150c3",
        "colab": {
          "base_uri": "https://localhost:8080/",
          "height": 436
        }
      },
      "source": [
        "def test_model():\n",
        "  print(\"\\nTESTING MODEL\\n\")\n",
        "  for i in range(0,5):\n",
        "    text = list(df[\"title\"])[randint(0,10000)]\n",
        "    doc = nlp(text)\n",
        "    print(\"\\t\"+text)\n",
        "    print(\"\\t\\tEntities\", [(ent.text, ent.label_) for ent in doc.ents])\n",
        "    print(\"\\t\\tTokens\", [(t.text, t.ent_type_, t.ent_iob) for t in doc])\n",
        "    print(\"\")\n",
        "test_model()"
      ],
      "execution_count": 0,
      "outputs": [
        {
          "output_type": "stream",
          "text": [
            "\n",
            "TESTING MODEL\n",
            "\n",
            "\tJuve risk losing Arsenal and Chelsea target Kean over broken tractor promise\n",
            "\t\tEntities [('Kean', 'PLAYER')]\n",
            "\t\tTokens [('Juve', '', 2), ('risk', '', 2), ('losing', '', 2), ('Arsenal', '', 2), ('and', '', 2), ('Chelsea', '', 2), ('target', '', 2), ('Kean', 'PLAYER', 3), ('over', '', 2), ('broken', '', 2), ('tractor', '', 2), ('promise', '', 2)]\n",
            "\n",
            "\tSeattle Sounders land Peruvian striker Ruidiaz as designated player\n",
            "\t\tEntities [('Seattle Sounders', 'TEAM'), ('Peruvian', 'PLAYER')]\n",
            "\t\tTokens [('Seattle', 'TEAM', 3), ('Sounders', 'TEAM', 1), ('land', '', 2), ('Peruvian', 'PLAYER', 3), ('striker', '', 2), ('Ruidiaz', '', 2), ('as', '', 2), ('designated', '', 2), ('player', '', 2)]\n",
            "\n",
            "\tHulk reiterates Palmeiras desire but expects Shanghai SIPG stay\n",
            "\t\tEntities [('Hulk', 'PLAYER'), ('Palmeiras', 'PLAYER'), ('Shanghai SIPG', 'TEAM')]\n",
            "\t\tTokens [('Hulk', 'PLAYER', 3), ('reiterates', '', 2), ('Palmeiras', 'PLAYER', 3), ('desire', '', 2), ('but', '', 2), ('expects', '', 2), ('Shanghai', 'TEAM', 3), ('SIPG', 'TEAM', 1), ('stay', '', 2)]\n",
            "\n",
            "\t'I don't know what teams are left!' - Sampaoli exasperated with persistent rumours\n",
            "\t\tEntities []\n",
            "\t\tTokens [(\"'\", '', 2), ('I', '', 2), ('do', '', 2), (\"n't\", '', 2), ('know', '', 2), ('what', '', 2), ('teams', '', 2), ('are', '', 2), ('left', '', 2), ('!', '', 2), (\"'\", '', 2), ('-', '', 2), ('Sampaoli', '', 2), ('exasperated', '', 2), ('with', '', 2), ('persistent', '', 2), ('rumours', '', 2)]\n",
            "\n",
            "\tBarcelona deny contact with Neymar's father\n",
            "\t\tEntities [('Neymar', 'PLAYER')]\n",
            "\t\tTokens [('Barcelona', '', 2), ('deny', '', 2), ('contact', '', 2), ('with', '', 2), ('Neymar', 'PLAYER', 3), (\"'s\", '', 2), ('father', '', 2)]\n",
            "\n"
          ],
          "name": "stdout"
        }
      ]
    },
    {
      "cell_type": "code",
      "metadata": {
        "id": "bp9XC_5vVhN5",
        "colab_type": "code",
        "colab": {}
      },
      "source": [
        "ner = nlp.get_pipe(\"ner\")\n",
        "ner.add_label(LABEL1)\n",
        "ner.add_label(LABEL2)"
      ],
      "execution_count": 0,
      "outputs": []
    },
    {
      "cell_type": "code",
      "metadata": {
        "id": "11suYkM7XPT5",
        "colab_type": "code",
        "outputId": "17327632-4cee-4755-9f4f-31e4916d5d6a",
        "colab": {
          "base_uri": "https://localhost:8080/",
          "height": 72
        }
      },
      "source": [
        "move_names = list(ner.move_names)\n",
        "print(move_names)\n",
        "pipe_exceptions = [\"ner\", \"trf_wordpiecer\", \"trf_tok2vec\"]\n",
        "other_pipes = [pipe for pipe in nlp.pipe_names if pipe not in pipe_exceptions]\n",
        "other_pipes"
      ],
      "execution_count": 0,
      "outputs": [
        {
          "output_type": "stream",
          "text": [
            "['B-ORG', 'B-DATE', 'B-PERSON', 'B-GPE', 'B-MONEY', 'B-CARDINAL', 'B-NORP', 'B-PERCENT', 'B-WORK_OF_ART', 'B-LOC', 'B-TIME', 'B-QUANTITY', 'B-FAC', 'B-EVENT', 'B-ORDINAL', 'B-PRODUCT', 'B-LAW', 'B-LANGUAGE', 'I-ORG', 'I-DATE', 'I-PERSON', 'I-GPE', 'I-MONEY', 'I-CARDINAL', 'I-NORP', 'I-PERCENT', 'I-WORK_OF_ART', 'I-LOC', 'I-TIME', 'I-QUANTITY', 'I-FAC', 'I-EVENT', 'I-ORDINAL', 'I-PRODUCT', 'I-LAW', 'I-LANGUAGE', 'L-ORG', 'L-DATE', 'L-PERSON', 'L-GPE', 'L-MONEY', 'L-CARDINAL', 'L-NORP', 'L-PERCENT', 'L-WORK_OF_ART', 'L-LOC', 'L-TIME', 'L-QUANTITY', 'L-FAC', 'L-EVENT', 'L-ORDINAL', 'L-PRODUCT', 'L-LAW', 'L-LANGUAGE', 'U-ORG', 'U-DATE', 'U-PERSON', 'U-GPE', 'U-MONEY', 'U-CARDINAL', 'U-NORP', 'U-PERCENT', 'U-WORK_OF_ART', 'U-LOC', 'U-TIME', 'U-QUANTITY', 'U-FAC', 'U-EVENT', 'U-ORDINAL', 'U-PRODUCT', 'U-LAW', 'U-LANGUAGE', 'O', 'B-TEAM', 'I-TEAM', 'L-TEAM', 'U-TEAM', 'B-PLAYER', 'I-PLAYER', 'L-PLAYER', 'U-PLAYER']\n"
          ],
          "name": "stdout"
        },
        {
          "output_type": "execute_result",
          "data": {
            "text/plain": [
              "['tagger', 'parser']"
            ]
          },
          "metadata": {
            "tags": []
          },
          "execution_count": 169
        }
      ]
    },
    {
      "cell_type": "code",
      "metadata": {
        "id": "vxj-6DXYXPfG",
        "colab_type": "code",
        "outputId": "a8a62cff-2048-4ec3-ba58-e986c4f9191f",
        "colab": {
          "base_uri": "https://localhost:8080/",
          "height": 917
        }
      },
      "source": [
        "from IPython.display import clear_output\n",
        "from spacy.util import compounding , minibatch\n",
        "n_iter = 150\n",
        "optimizer = nlp.resume_training()\n",
        "with nlp.disable_pipes(*other_pipes):  # only train NER\n",
        "  sizes = compounding(1.0, 4.0, 1.001)\n",
        "  last_loss = 42327.484182610715 \n",
        "  for itn in tqdm(range(n_iter)):\n",
        "      shuffle(TRAINING_DATA)\n",
        "      batches = minibatch(TRAINING_DATA, size=sizes)\n",
        "      losses = {}\n",
        "      for batch in batches:\n",
        "          texts, annotations = zip(*batch)\n",
        "          nlp.update(texts, annotations, sgd=optimizer, drop=0.35, losses=losses)\n",
        "      clear_output(wait=True)\n",
        "      test_model()\n",
        "      print(\"Loss \", losses)\n",
        "      print(\"Rate \", (last_loss - losses[\"ner\"])/last_loss)\n",
        "      last_loss = losses[\"ner\"]\n"
      ],
      "execution_count": 0,
      "outputs": [
        {
          "output_type": "stream",
          "text": [
            "\n",
            "\n",
            "\n",
            "\n",
            "\n",
            "\n",
            " 33%|███▎      | 49/150 [44:54<1:29:16, 53.04s/it]\u001b[A\u001b[A\u001b[A\u001b[A\u001b[A\u001b[A"
          ],
          "name": "stderr"
        },
        {
          "output_type": "stream",
          "text": [
            "\n",
            "TESTING MODEL\n",
            "\n",
            "\tSmeltz leaves Phoenix for Indonesian club\n",
            "\t\tEntities [('Smeltz', 'PLAYER')]\n",
            "\t\tTokens [('Smeltz', 'PLAYER', 3), ('leaves', '', 2), ('Phoenix', '', 2), ('for', '', 2), ('Indonesian', '', 2), ('club', '', 2)]\n",
            "\n",
            "\tGiroud may not get Chelsea exit in January as Inter consider summer move on a free\n",
            "\t\tEntities []\n",
            "\t\tTokens [('Giroud', '', 2), ('may', '', 2), ('not', '', 2), ('get', '', 2), ('Chelsea', '', 2), ('exit', '', 2), ('in', '', 2), ('January', '', 2), ('as', '', 2), ('Inter', '', 2), ('consider', '', 2), ('summer', '', 2), ('move', '', 2), ('on', '', 2), ('a', '', 2), ('free', '', 2)]\n",
            "\n",
            "\tOxlade-Chamberlain signs new four-year Liverpool contract\n",
            "\t\tEntities [('Oxlade-Chamberlain', 'PLAYER')]\n",
            "\t\tTokens [('Oxlade', 'PLAYER', 3), ('-', 'PLAYER', 1), ('Chamberlain', 'PLAYER', 1), ('signs', '', 2), ('new', '', 2), ('four', '', 2), ('-', '', 2), ('year', '', 2), ('Liverpool', '', 2), ('contract', '', 2)]\n",
            "\n",
            "\tGordon signs Celtic renewal after collapsed Chelsea deal\n",
            "\t\tEntities []\n",
            "\t\tTokens [('Gordon', '', 2), ('signs', '', 2), ('Celtic', '', 2), ('renewal', '', 2), ('after', '', 2), ('collapsed', '', 2), ('Chelsea', '', 2), ('deal', '', 2)]\n",
            "\n",
            "\tColumbus Crew add midfielder Mohammed Abu\n",
            "\t\tEntities [('Mohammed Abu', 'PLAYER')]\n",
            "\t\tTokens [('Columbus', '', 2), ('Crew', '', 2), ('add', '', 2), ('midfielder', '', 2), ('Mohammed', 'PLAYER', 3), ('Abu', 'PLAYER', 1)]\n",
            "\n",
            "Loss  {'ner': 40462.29621425448}\n",
            "Rate  0.002809890631870779\n"
          ],
          "name": "stdout"
        },
        {
          "output_type": "error",
          "ename": "KeyboardInterrupt",
          "evalue": "ignored",
          "traceback": [
            "\u001b[0;31m---------------------------------------------------------------------------\u001b[0m",
            "\u001b[0;31mKeyboardInterrupt\u001b[0m                         Traceback (most recent call last)",
            "\u001b[0;32m<ipython-input-187-85f0e5b55ffa>\u001b[0m in \u001b[0;36m<module>\u001b[0;34m()\u001b[0m\n\u001b[1;32m     12\u001b[0m       \u001b[0;32mfor\u001b[0m \u001b[0mbatch\u001b[0m \u001b[0;32min\u001b[0m \u001b[0mbatches\u001b[0m\u001b[0;34m:\u001b[0m\u001b[0;34m\u001b[0m\u001b[0;34m\u001b[0m\u001b[0m\n\u001b[1;32m     13\u001b[0m           \u001b[0mtexts\u001b[0m\u001b[0;34m,\u001b[0m \u001b[0mannotations\u001b[0m \u001b[0;34m=\u001b[0m \u001b[0mzip\u001b[0m\u001b[0;34m(\u001b[0m\u001b[0;34m*\u001b[0m\u001b[0mbatch\u001b[0m\u001b[0;34m)\u001b[0m\u001b[0;34m\u001b[0m\u001b[0;34m\u001b[0m\u001b[0m\n\u001b[0;32m---> 14\u001b[0;31m           \u001b[0mnlp\u001b[0m\u001b[0;34m.\u001b[0m\u001b[0mupdate\u001b[0m\u001b[0;34m(\u001b[0m\u001b[0mtexts\u001b[0m\u001b[0;34m,\u001b[0m \u001b[0mannotations\u001b[0m\u001b[0;34m,\u001b[0m \u001b[0msgd\u001b[0m\u001b[0;34m=\u001b[0m\u001b[0moptimizer\u001b[0m\u001b[0;34m,\u001b[0m \u001b[0mdrop\u001b[0m\u001b[0;34m=\u001b[0m\u001b[0;36m0.35\u001b[0m\u001b[0;34m,\u001b[0m \u001b[0mlosses\u001b[0m\u001b[0;34m=\u001b[0m\u001b[0mlosses\u001b[0m\u001b[0;34m)\u001b[0m\u001b[0;34m\u001b[0m\u001b[0;34m\u001b[0m\u001b[0m\n\u001b[0m\u001b[1;32m     15\u001b[0m       \u001b[0mclear_output\u001b[0m\u001b[0;34m(\u001b[0m\u001b[0mwait\u001b[0m\u001b[0;34m=\u001b[0m\u001b[0;32mTrue\u001b[0m\u001b[0;34m)\u001b[0m\u001b[0;34m\u001b[0m\u001b[0;34m\u001b[0m\u001b[0m\n\u001b[1;32m     16\u001b[0m       \u001b[0mtest_model\u001b[0m\u001b[0;34m(\u001b[0m\u001b[0;34m)\u001b[0m\u001b[0;34m\u001b[0m\u001b[0;34m\u001b[0m\u001b[0m\n",
            "\u001b[0;32m/usr/local/lib/python3.6/dist-packages/spacy/language.py\u001b[0m in \u001b[0;36mupdate\u001b[0;34m(self, docs, golds, drop, sgd, losses, component_cfg)\u001b[0m\n\u001b[1;32m    519\u001b[0m             \u001b[0mproc\u001b[0m\u001b[0;34m.\u001b[0m\u001b[0mupdate\u001b[0m\u001b[0;34m(\u001b[0m\u001b[0mdocs\u001b[0m\u001b[0;34m,\u001b[0m \u001b[0mgolds\u001b[0m\u001b[0;34m,\u001b[0m \u001b[0msgd\u001b[0m\u001b[0;34m=\u001b[0m\u001b[0mget_grads\u001b[0m\u001b[0;34m,\u001b[0m \u001b[0mlosses\u001b[0m\u001b[0;34m=\u001b[0m\u001b[0mlosses\u001b[0m\u001b[0;34m,\u001b[0m \u001b[0;34m**\u001b[0m\u001b[0mkwargs\u001b[0m\u001b[0;34m)\u001b[0m\u001b[0;34m\u001b[0m\u001b[0;34m\u001b[0m\u001b[0m\n\u001b[1;32m    520\u001b[0m             \u001b[0;32mfor\u001b[0m \u001b[0mkey\u001b[0m\u001b[0;34m,\u001b[0m \u001b[0;34m(\u001b[0m\u001b[0mW\u001b[0m\u001b[0;34m,\u001b[0m \u001b[0mdW\u001b[0m\u001b[0;34m)\u001b[0m \u001b[0;32min\u001b[0m \u001b[0mgrads\u001b[0m\u001b[0;34m.\u001b[0m\u001b[0mitems\u001b[0m\u001b[0;34m(\u001b[0m\u001b[0;34m)\u001b[0m\u001b[0;34m:\u001b[0m\u001b[0;34m\u001b[0m\u001b[0;34m\u001b[0m\u001b[0m\n\u001b[0;32m--> 521\u001b[0;31m                 \u001b[0msgd\u001b[0m\u001b[0;34m(\u001b[0m\u001b[0mW\u001b[0m\u001b[0;34m,\u001b[0m \u001b[0mdW\u001b[0m\u001b[0;34m,\u001b[0m \u001b[0mkey\u001b[0m\u001b[0;34m=\u001b[0m\u001b[0mkey\u001b[0m\u001b[0;34m)\u001b[0m\u001b[0;34m\u001b[0m\u001b[0;34m\u001b[0m\u001b[0m\n\u001b[0m\u001b[1;32m    522\u001b[0m \u001b[0;34m\u001b[0m\u001b[0m\n\u001b[1;32m    523\u001b[0m     \u001b[0;32mdef\u001b[0m \u001b[0mrehearse\u001b[0m\u001b[0;34m(\u001b[0m\u001b[0mself\u001b[0m\u001b[0;34m,\u001b[0m \u001b[0mdocs\u001b[0m\u001b[0;34m,\u001b[0m \u001b[0msgd\u001b[0m\u001b[0;34m=\u001b[0m\u001b[0;32mNone\u001b[0m\u001b[0;34m,\u001b[0m \u001b[0mlosses\u001b[0m\u001b[0;34m=\u001b[0m\u001b[0;32mNone\u001b[0m\u001b[0;34m,\u001b[0m \u001b[0mconfig\u001b[0m\u001b[0;34m=\u001b[0m\u001b[0;32mNone\u001b[0m\u001b[0;34m)\u001b[0m\u001b[0;34m:\u001b[0m\u001b[0;34m\u001b[0m\u001b[0;34m\u001b[0m\u001b[0m\n",
            "\u001b[0;31mKeyboardInterrupt\u001b[0m: "
          ]
        }
      ]
    },
    {
      "cell_type": "code",
      "metadata": {
        "id": "P_BlMdLgXlSO",
        "colab_type": "code",
        "colab": {}
      },
      "source": [
        "!pip install pathlib\n",
        "from pathlib import Path\n",
        "new_model_name = \"en_fnew_md\"\n",
        "output_dir = \"./content/gdrive/My Drive/project stuff/en_fnew_md\"\n",
        "output_dir = Path(output_dir)\n",
        "if not output_dir.exists():\n",
        "    output_dir.mkdir()\n",
        "nlp.meta[\"name\"] = new_model_name  # rename model\n",
        "nlp.to_disk(output_dir)\n",
        "print(\"Saved model to\", output_dir)"
      ],
      "execution_count": 0,
      "outputs": []
    },
    {
      "cell_type": "code",
      "metadata": {
        "id": "Z72p-QLsYTrl",
        "colab_type": "code",
        "colab": {}
      },
      "source": [
        ""
      ],
      "execution_count": 0,
      "outputs": []
    },
    {
      "cell_type": "markdown",
      "metadata": {
        "id": "TkZ0kArtY1GU",
        "colab_type": "text"
      },
      "source": [
        "## Cleaning Report data"
      ]
    },
    {
      "cell_type": "code",
      "metadata": {
        "id": "ukoDzeOHYnaS",
        "colab_type": "code",
        "colab": {}
      },
      "source": [
        "!unzip /content/gdrive/My\\ Drive/project\\ stuff/fmodel.zip "
      ],
      "execution_count": 0,
      "outputs": []
    },
    {
      "cell_type": "code",
      "metadata": {
        "id": "-EdcbYE2W062",
        "colab_type": "code",
        "colab": {}
      },
      "source": [
        "nlp = spacy.load(\"en_fnew_md\")"
      ],
      "execution_count": 0,
      "outputs": []
    },
    {
      "cell_type": "code",
      "metadata": {
        "id": "T4AvV7dHx_em",
        "colab_type": "code",
        "colab": {}
      },
      "source": [
        "df = pd.read_csv(\"transfer_data.csv\")"
      ],
      "execution_count": 0,
      "outputs": []
    },
    {
      "cell_type": "code",
      "metadata": {
        "id": "jr59Uh2uz8E3",
        "colab_type": "code",
        "colab": {}
      },
      "source": [
        "def cleantext(text):\n",
        "  text=text.replace(\"\\n\",\" \")\n",
        "  text=text.replace(\"Other English editions\",\"\")\n",
        "  text=text[:-193]\n",
        "  text.strip()\n",
        "  return(text)\n",
        "df[\"content\"] = df[\"content\"].apply(cleantext);"
      ],
      "execution_count": 0,
      "outputs": []
    },
    {
      "cell_type": "code",
      "metadata": {
        "id": "RwUPzXd20ltP",
        "colab_type": "code",
        "colab": {}
      },
      "source": [
        "import re\n",
        "def datefix(x):\n",
        "  match = re.search(r\"\\d+/\\d+/\\d+\",x)\n",
        "  if match == None:\n",
        "    print(x)\n",
        "  else:\n",
        "    return(str(match.group()))\n",
        "df[\"date\"] = df[\"date\"].apply(datefix)"
      ],
      "execution_count": 0,
      "outputs": []
    },
    {
      "cell_type": "code",
      "metadata": {
        "id": "sVS23DDaz7Xw",
        "colab_type": "code",
        "colab": {}
      },
      "source": [
        "def checkemph(x):\n",
        "  doc = nlp(x.lower())\n",
        "  for token in doc.ents:\n",
        "    if token.label_ == \"PERSON\":\n",
        "      return False\n",
        "  return True\n",
        "filtered_df = df[df[\"emphasis\"].apply(checkemph)]"
      ],
      "execution_count": 0,
      "outputs": []
    },
    {
      "cell_type": "code",
      "metadata": {
        "id": "Up7iKjaq2RqQ",
        "colab_type": "code",
        "colab": {}
      },
      "source": [
        "df = filtered_df\n",
        "del filtered_df"
      ],
      "execution_count": 0,
      "outputs": []
    },
    {
      "cell_type": "code",
      "metadata": {
        "id": "MWfirXBk_UKv",
        "colab_type": "code",
        "outputId": "bc670ae1-e4fa-4561-a3c1-6bcece3fc162",
        "colab": {
          "base_uri": "https://localhost:8080/",
          "height": 69
        }
      },
      "source": [
        "df.columns"
      ],
      "execution_count": 0,
      "outputs": [
        {
          "output_type": "execute_result",
          "data": {
            "text/plain": [
              "Index(['content', 'date', 'emphasis', 'subscript', 'subtitle', 'title',\n",
              "       'topic', 'url'],\n",
              "      dtype='object')"
            ]
          },
          "metadata": {
            "tags": []
          },
          "execution_count": 99
        }
      ]
    },
    {
      "cell_type": "code",
      "metadata": {
        "id": "vH0LcVPI_fhO",
        "colab_type": "code",
        "outputId": "80d9ec48-1295-4276-87f6-f5e86126e7a9",
        "colab": {
          "base_uri": "https://localhost:8080/",
          "height": 1000
        }
      },
      "source": [
        "categories = dict()\n",
        "for topics in df[\"topic\"]:\n",
        "  tl = topics.split(\"+\")\n",
        "  for topic in tl:\n",
        "    doc = nlp(topic)\n",
        "    for token in doc.ents:\n",
        "      if token.label_ == \"\"\n",
        "    try:\n",
        "      categories[topic] = categories[topic] + 1;\n",
        "    except:\n",
        "      categories[topic] = 1;\n",
        "\n",
        "categories"
      ],
      "execution_count": 0,
      "outputs": [
        {
          "output_type": "execute_result",
          "data": {
            "text/plain": [
              "{' Transfers ': 12580,\n",
              " ' Tottenham Hotspur ': 687,\n",
              " ' Olympique Lyonnais ': 212,\n",
              " ' Moussa Dembélé ': 31,\n",
              " ' Premier League ': 7097,\n",
              " ' Harry Kane ': 93,\n",
              " ' Ligue 1 ': 1602,\n",
              " ' Primera División ': 3228,\n",
              " ' Tello ': 1,\n",
              " ' Real Betis ': 71,\n",
              " ' Barcelona ': 1764,\n",
              " ' Fiorentina ': 69,\n",
              " ' Manchester City ': 982,\n",
              " ' Nicolás Otamendi ': 44,\n",
              " ' Burton Albion ': 3,\n",
              " ' Burton Albion v Manchester City ': 2,\n",
              " ' League Cup ': 80,\n",
              " ' Swansea City ': 79,\n",
              " ' Everton ': 382,\n",
              " ' Gylfi Sigurðsson ': 8,\n",
              " ' Swansea City v West Bromwich Albion ': 2,\n",
              " ' Neymar ': 472,\n",
              " ' PSG ': 1114,\n",
              " ' Chelsea ': 1757,\n",
              " ' Championship ': 277,\n",
              " ' Burnley ': 83,\n",
              " ' West Bromwich Albion ': 73,\n",
              " ' Charlton Athletic ': 6,\n",
              " ' Ike Ugbo ': 2,\n",
              " ' Lewis Baker ': 9,\n",
              " ' Conor Gallagher ': 2,\n",
              " ' Roda JC ': 2,\n",
              " ' Norwich City ': 31,\n",
              " ' Queens Park Rangers ': 7,\n",
              " ' Crystal Palace ': 210,\n",
              " ' Hull City ': 30,\n",
              " ' Roma ': 328,\n",
              " ' Manchester United ': 2164,\n",
              " ' Serie A ': 2144,\n",
              " ' Chris Smalling ': 15,\n",
              " ' Borussia Dortmund ': 481,\n",
              " ' Erling Håland ': 39,\n",
              " ' Bundesliga ': 1417,\n",
              " ' Liverpool ': 1201,\n",
              " ' Philippe Coutinho ': 206,\n",
              " ' Kevin De Bruyne ': 49,\n",
              " ' Riyad Mahrez ': 70,\n",
              " ' Philip Foden ': 30,\n",
              " ' Vincent Kompany ': 48,\n",
              " ' Raheem Sterling ': 53,\n",
              " ' Bernardo Silva ': 50,\n",
              " ' John Stones ': 42,\n",
              " ' İ. Gündoğan ': 45,\n",
              " ' Kyle Walker ': 51,\n",
              " ' Gabriel Jesus ': 50,\n",
              " ' David Silva ': 41,\n",
              " ' Claudio Bravo ': 46,\n",
              " ' Danilo ': 52,\n",
              " ' Sergio Agüero ': 58,\n",
              " ' Benjamin Mendy ': 56,\n",
              " ' Ederson Moraes ': 47,\n",
              " ' Leroy Sané ': 88,\n",
              " ' Fernandinho ': 43,\n",
              " ' Wayne Rooney ': 79,\n",
              " ' CSL ': 179,\n",
              " ' Diego Costa ': 98,\n",
              " ' Barcelona v Juventus ': 3,\n",
              " ' Juventus ': 882,\n",
              " ' Paulo Dybala ': 72,\n",
              " ' UEFA Champions League ': 420,\n",
              " ' Jadon Sancho ': 73,\n",
              " ' Matthijs de Ligt ': 100,\n",
              " ' Eredivisie ': 270,\n",
              " ' Ajax ': 264,\n",
              " ' England ': 52,\n",
              " ' Vitesse ': 11,\n",
              " ' Ruben Loftus-Cheek ': 26,\n",
              " ' League One ': 11,\n",
              " ' Kurt Zouma ': 16,\n",
              " ' League Two ': 11,\n",
              " ' West Ham United ': 281,\n",
              " ' Michael Keane ': 15,\n",
              " ' Burnley v West Ham United ': 3,\n",
              " ' Tom Heaton ': 3,\n",
              " ' Arsenal ': 1463,\n",
              " ' A. Sánchez ': 224,\n",
              " ' Los Angeles ': 20,\n",
              " ' Christian Ramirez ': 1,\n",
              " ' Minnesota United FC ': 18,\n",
              " ' MLS ': 464,\n",
              " ' Atlético Madrid ': 487,\n",
              " ' Atlético San Luis ': 2,\n",
              " ' Ascenso MX ': 3,\n",
              " ' Manuel Lanzini ': 2,\n",
              " ' Virgil van Dijk ': 75,\n",
              " ' Internazionale ': 509,\n",
              " ' Cagliari v Internazionale ': 10,\n",
              " ' Mauro Icardi ': 97,\n",
              " ' Real Madrid ': 1609,\n",
              " ' Real Sociedad ': 60,\n",
              " ' Adnan Januzaj ': 4,\n",
              " ' Paul Pogba ': 222,\n",
              " ' Moise Kean ': 11,\n",
              " ' Woking ': 1,\n",
              " ' Abdoulaye Doucouré ': 13,\n",
              " ' Woking v Watford ': 1,\n",
              " ' Rennes ': 27,\n",
              " ' Watford ': 106,\n",
              " ' PSG v Rennes ': 9,\n",
              " ' Coupe de France Féminine ': 1,\n",
              " ' FA Cup ': 127,\n",
              " ' Gareth Bale ': 175,\n",
              " ' Jack Wilshere ': 46,\n",
              " ' West Bromwich Albion v Arsenal ': 5,\n",
              " ' Mohamed Salah ': 65,\n",
              " ' Federico Valverde ': 3,\n",
              " ' Freiburg ': 17,\n",
              " ' Borussia Dortmund v Club Brugge ': 1,\n",
              " ' Club Brugge ': 9,\n",
              " ' Borussia Dortmund v Freiburg ': 6,\n",
              " ' Jordan Pickford ': 11,\n",
              " ' World Cup ': 117,\n",
              " ' Monaco ': 340,\n",
              " ' Alex Sandro ': 20,\n",
              " ' Tiemoué Bakayoko ': 49,\n",
              " ' Manchester United v Leicester City ': 25,\n",
              " ' Leicester City ': 286,\n",
              " ' Harry Maguire ': 70,\n",
              " ' Stoke City ': 79,\n",
              " ' Newcastle United ': 165,\n",
              " ' AFC Bournemouth ': 129,\n",
              " ' Middlesbrough ': 27,\n",
              " ' Matt Ritchie ': 2,\n",
              " ' Antoine Griezmann ': 217,\n",
              " ' Nélson Semedo ': 9,\n",
              " ' RB Leipzig ': 181,\n",
              " ' Emil Forsberg ': 18,\n",
              " ' Roma v Internazionale ': 4,\n",
              " ' Radja Nainggolan ': 30,\n",
              " ' Sunderland ': 30,\n",
              " ' Jake Clarke-Salter ': 4,\n",
              " ' Alexandre Lacazette ': 56,\n",
              " ' Filipe Luís ': 16,\n",
              " ' Llorente ': 25,\n",
              " ' D. Alli ': 24,\n",
              " ' Tottenham Hotspur v Manchester United ': 16,\n",
              " ' Mesut Özil ': 105,\n",
              " ' Luis Suárez ': 36,\n",
              " ' Barcelona v Celta de Vigo ': 8,\n",
              " ' Celta de Vigo ': 45,\n",
              " ' Toronto ': 24,\n",
              " ' Seattle Sounders ': 14,\n",
              " ' Seattle Sounders v Toronto ': 1,\n",
              " ' Greuther Fürth v Stuttgart ': 1,\n",
              " ' Stuttgart ': 39,\n",
              " ' 2. Bundesliga ': 16,\n",
              " ' Berkay Özcan ': 2,\n",
              " ' Nathan Aké ': 24,\n",
              " ' Bayern München ': 698,\n",
              " ' Schalke 04 ': 113,\n",
              " ' Julian Draxler ': 15,\n",
              " ' Lucas Torreira ': 20,\n",
              " ' Marco Verratti ': 61,\n",
              " ' Dallas ': 17,\n",
              " ' Jordan Henderson ': 5,\n",
              " ' Emre Can ': 53,\n",
              " ' Liverpool v AFC Bournemouth ': 2,\n",
              " ' Adam Lallana ': 13,\n",
              " ' Brighton & Hove Albion ': 98,\n",
              " ' PSV ': 53,\n",
              " ' Brighton & Hove Albion v Manchester City ': 12,\n",
              " ' Davy Pröpper ': 1,\n",
              " ' Kepa ': 33,\n",
              " ' Athletic Club ': 52,\n",
              " ' Keylor Navas ': 28,\n",
              " ' Huddersfield Town ': 72,\n",
              " ' Southampton ': 133,\n",
              " ' Nicolò Barella ': 11,\n",
              " ' Cagliari ': 36,\n",
              " ' Sevilla ': 168,\n",
              " ' Porto ': 48,\n",
              " ' Primeira Liga ': 138,\n",
              " ' Michy Batshuayi ': 59,\n",
              " ' Vincent Aboubakar ': 3,\n",
              " ' African All Stars ': 308,\n",
              " ' Dani Ceballos ': 30,\n",
              " ' Sporting CP ': 93,\n",
              " ' Bruno Fernandes ': 48,\n",
              " ' Bruno Guimarães ': 3,\n",
              " ' Athletico Paranaense ': 2,\n",
              " ' Toby Alderweireld ': 48,\n",
              " ' Tottenham Hotspur v Southampton ': 3,\n",
              " ' Jan Vertonghen ': 15,\n",
              " ' Christian Eriksen ': 81,\n",
              " ' São Paulo ': 13,\n",
              " ' David Neres ': 7,\n",
              " ' Milan ': 449,\n",
              " ' Juventus v Milan ': 15,\n",
              " ' Zlatan Ibrahimović ': 122,\n",
              " ' A-League ': 98,\n",
              " ' Boavista ': 3,\n",
              " ' Wellington Phoenix ': 7,\n",
              " ' Joe Hart ': 33,\n",
              " ' Torino ': 55,\n",
              " ' Nemanja Matić ': 32,\n",
              " ' Olivier Giroud ': 100,\n",
              " ' Morata ': 115,\n",
              " ' Spartak Moskva v Liverpool ': 1,\n",
              " ' Spartak Moskva ': 9,\n",
              " ' Napoli ': 261,\n",
              " ' Leicester City v Chelsea ': 17,\n",
              " ' Dries Mertens ': 19,\n",
              " ' João Félix ': 23,\n",
              " ' Moussa Sissoko ': 9,\n",
              " ' Joël Matip ': 5,\n",
              " ' Lucas Pérez ': 22,\n",
              " ' Thomas Meunier ': 12,\n",
              " ' Netherlands ': 20,\n",
              " ' UEFA Nations League ': 30,\n",
              " ' Frenkie de Jong ': 66,\n",
              " ' Valencia ': 106,\n",
              " ' Real Madrid v Valencia ': 5,\n",
              " ' Leonardo Bonucci ': 44,\n",
              " ' Real Madrid v Manchester United ': 13,\n",
              " ' David de Gea ': 46,\n",
              " ' International Champions Cup ': 132,\n",
              " ' Beijing Guoan ': 9,\n",
              " ' Trabzonspor ': 14,\n",
              " ' Burak Yılmaz ': 2,\n",
              " ' Cristiano Ronaldo ': 204,\n",
              " ' Daley Blind ': 10,\n",
              " ' Thiago Alcântara ': 12,\n",
              " ' Adrien Rabiot ': 44,\n",
              " ' James Rodríguez ': 82,\n",
              " ' Liverpool v Everton ': 15,\n",
              " ' Steven Nzonzi ': 15,\n",
              " ' Arsenal v Leicester City ': 23,\n",
              " ' Sead Kolašinac ': 16,\n",
              " ' Olympique Marseille ': 86,\n",
              " ' UEFA Europa League ': 148,\n",
              " ' Olympique Marseille v Atlético Madrid ': 3,\n",
              " ' Universitatea Craiova v Milan ': 1,\n",
              " ' Carlos Bacca ': 10,\n",
              " ' Universitatea Craiova ': 1,\n",
              " ' Roberto Firmino ': 11,\n",
              " ' Liverpool v Newcastle United ': 6,\n",
              " ' Lionel Messi ': 159,\n",
              " ' Barcelona v Real Betis ': 14,\n",
              " ' DC United ': 53,\n",
              " ' LA Galaxy ': 93,\n",
              " ' DC United v LA Galaxy ': 1,\n",
              " ' Victor Lindelöf ': 20,\n",
              " ' Shkodran Mustafi ': 20,\n",
              " ' Theo Hernández ': 10,\n",
              " ' Sassuolo ': 36,\n",
              " ' Nantes ': 28,\n",
              " ' Keita Baldé ': 9,\n",
              " ' Nantes v Monaco ': 1,\n",
              " ' Sassuolo v Internazionale ': 4,\n",
              " ' Sporting Braga ': 6,\n",
              " ' Francisco Trincão ': 3,\n",
              " ' Milan Škriniar ': 20,\n",
              " ' Andrea Belotti ': 27,\n",
              " ' PSG v Αμιάν ': 21,\n",
              " ' Sergej Milinković-Savić ': 40,\n",
              " ' Lazio v Torino ': 2,\n",
              " ' Lazio ': 100,\n",
              " ' Manchester United v Manchester City ': 14,\n",
              " ' James McCarthy ': 2,\n",
              " ' Djibril Sidibé ': 8,\n",
              " ' Wilfried Zaha ': 82,\n",
              " ' Cenk Tosun ': 11,\n",
              " ' Wales ': 15,\n",
              " ' Sunderland v Millwall ': 1,\n",
              " ' Romelu Lukaku ': 133,\n",
              " ' Edward Nketiah ': 11,\n",
              " ' Real Madrid v Atlético Madrid ': 21,\n",
              " ' Celtic ': 133,\n",
              " ' Premiership ': 149,\n",
              " ' Bayern München v Arsenal ': 3,\n",
              " ' Thomas Müller ': 18,\n",
              " ' Bradford City v Liverpool ': 1,\n",
              " ' Club Friendlies ': 87,\n",
              " ' Brentford ': 6,\n",
              " ' Herbie Kane ': 2,\n",
              " ' Talisca ': 3,\n",
              " ' Beşiktaş ': 53,\n",
              " ' Benfica ': 66,\n",
              " ' Fulham ': 75,\n",
              " ' Fulham v Tottenham Hotspur ': 2,\n",
              " ' Kylian Mbappé ': 234,\n",
              " ' Mattia Perin ': 2,\n",
              " ' Genoa ': 32,\n",
              " ' Luxembourg v Portugal ': 1,\n",
              " ' Luxembourg ': 3,\n",
              " ' Lithuania ': 1,\n",
              " ' Eintracht Frankfurt v Wolfsburg ': 1,\n",
              " ' Everton v Norwich City ': 2,\n",
              " ' Portugal v Lithuania ': 1,\n",
              " ' EC Qualification ': 42,\n",
              " ' Portugal ': 23,\n",
              " ' Wolfsburg ': 27,\n",
              " ' Eintracht Frankfurt ': 76,\n",
              " ' Gonçalo Paciência ': 1,\n",
              " ' Bordeaux ': 51,\n",
              " ' Laurent Koscielny ': 15,\n",
              " ' Javier Pastore ': 16,\n",
              " ' Argentina ': 18,\n",
              " ' Rangers ': 51,\n",
              " ' Oviemuno Ejaria ': 4,\n",
              " ' Hellas Verona ': 13,\n",
              " ' Al Duhail ': 4,\n",
              " ' Mario Mandžukić ': 30,\n",
              " ' Stars League ': 8,\n",
              " ' Callum Hudson-Odoi ': 70,\n",
              " ' Gianluigi Donnarumma ': 61,\n",
              " ' Pepe Reina ': 9,\n",
              " ' Gianluigi Buffon ': 30,\n",
              " ' Stephan Lichtsteiner ': 13,\n",
              " ' Eden Hazard ': 222,\n",
              " ' Chelsea v Arsenal ': 36,\n",
              " ' DFB Pokal ': 23,\n",
              " ' Sokratis Papastathopoulos ': 14,\n",
              " ' Eintracht Frankfurt v Borussia Dortmund ': 2,\n",
              " ' Arsenal v Manchester City ': 17,\n",
              " ' Jonny Evans ': 26,\n",
              " ' Tottenham Hotspur v Chelsea ': 15,\n",
              " ' PSG v Nîmes ': 5,\n",
              " ' Stefano Sturaro ': 2,\n",
              " ' Süper Lig ': 97,\n",
              " ' Mohamed Elneny ': 10,\n",
              " ' Arsenal v Crystal Palace ': 14,\n",
              " ' Pierre-Emerick Aubameyang ': 117,\n",
              " ' Federico Chiesa ': 9,\n",
              " ' Danny Drinkwater ': 24,\n",
              " ' Chelsea v Fulham ': 2,\n",
              " ' Dijon v Monaco ': 6,\n",
              " ' Olympiakos Piraeus ': 16,\n",
              " ' Luka Milivojević ': 1,\n",
              " ' Geoffrey Kondogbia ': 5,\n",
              " ' Memphis Depay ': 17,\n",
              " ' Nice ': 103,\n",
              " ' Ousmane Dembélé ': 95,\n",
              " ' Samuel Umtiti ': 33,\n",
              " ' Sutton United ': 2,\n",
              " ' Sutton United v Arsenal ': 2,\n",
              " ' Chelsea v Newcastle United ': 12,\n",
              " ' Gary Cahill ': 18,\n",
              " ' Atlético Mineiro ': 3,\n",
              " ' Grêmio ': 29,\n",
              " ' Arthur ': 27,\n",
              " ' Atlético Mineiro v Grêmio ': 1,\n",
              " ' Fabinho ': 36,\n",
              " ' Al Hilal ': 1,\n",
              " ' Pro League ': 2,\n",
              " ' Sebastian Giovinco ': 7,\n",
              " ' Ashley Young ': 10,\n",
              " ' James Maddison ': 28,\n",
              " ' Atlanta United ': 30,\n",
              " ' Kingsley Coman ': 12,\n",
              " ' Serge Gnabry ': 7,\n",
              " ' Kieran Tierney ': 46,\n",
              " ' Declan Rice ': 26,\n",
              " ' Sadio Mané ': 24,\n",
              " ' Borussia Dortmund v Bayern München ': 7,\n",
              " ' Super Cup ': 35,\n",
              " ' Diego Cavalieri ': 1,\n",
              " ' Crystal Palace v Manchester United ': 5,\n",
              " ' Edin Džeko ': 27,\n",
              " ' Alisson ': 45,\n",
              " ' Atlanta United v Portland Timbers ': 5,\n",
              " ' Miguel Almirón ': 6,\n",
              " ' Internazionale v Udinese ': 3,\n",
              " ' Udinese ': 16,\n",
              " ' Reinier ': 8,\n",
              " ' Flamengo ': 45,\n",
              " ' Aaron Ramsey ': 51,\n",
              " ' Inter Miami ': 11,\n",
              " ' Monterrey ': 13,\n",
              " ' Lokomotiv Moskva ': 3,\n",
              " ' Lille ': 74,\n",
              " ' Nicolas Pépé ': 41,\n",
              " ' Copa America ': 21,\n",
              " ' Ander Herrera ': 19,\n",
              " ' Brazil ': 45,\n",
              " ' Idrissa Gueye ': 11,\n",
              " ' Brazil v Argentina ': 2,\n",
              " ' Trophée des Champions ': 5,\n",
              " ' Arturo Vidal ': 38,\n",
              " ' West Ham United v Huddersfield Town ': 2,\n",
              " ' Feirense v Sporting CP ': 1,\n",
              " ' Augsburg v Bayern München ': 7,\n",
              " ' André Gomes ': 12,\n",
              " ' Fulham v Manchester City ': 1,\n",
              " ' Jean Seri ': 20,\n",
              " ' Reece James ': 8,\n",
              " ' Fortuna Düsseldorf ': 8,\n",
              " ' Reading ': 15,\n",
              " ' Trevoh Chalobah ': 4,\n",
              " ' Hirving Lozano ': 25,\n",
              " ' Bruma ': 4,\n",
              " ' Timo Werner ': 52,\n",
              " ' SJ Earthquakes ': 10,\n",
              " ' Luzern ': 2,\n",
              " ' Super League ': 9,\n",
              " ' Mexico ': 42,\n",
              " ' América ': 20,\n",
              " ' Edson Álvarez ': 3,\n",
              " ' Wolverhampton Wanderers ': 90,\n",
              " ' Raúl Jiménez ': 10,\n",
              " ' Íñigo Martínez ': 7,\n",
              " ' Denis Suárez ': 28,\n",
              " ' Ahmed Hegazi ': 3,\n",
              " ' Al Ahly ': 2,\n",
              " ' Konstantinos Manolas ': 10,\n",
              " ' Saint-Étienne ': 23,\n",
              " ' William Saliba ': 10,\n",
              " ' Olivier Ntcham ': 2,\n",
              " ' Naby Keïta ': 43,\n",
              " ' Alberto Moreno ': 10,\n",
              " ' Richarlison ': 16,\n",
              " ' João Cancelo ': 21,\n",
              " ' Real Betis v Atlético Madrid ': 2,\n",
              " ' Olympique Lyonnais v PSG ': 5,\n",
              " ' Real Madrid v Barcelona ': 25,\n",
              " ' Ferland Mendy ': 7,\n",
              " ' South Korea ': 3,\n",
              " ' South Korea v Mexico ': 2,\n",
              " ' Á. Correa ': 2,\n",
              " ' Justin Kluivert ': 14,\n",
              " ' Joaquín ': 2,\n",
              " ' Everton v Cardiff City ': 1,\n",
              " ' Cardiff City ': 31,\n",
              " ' Ross Barkley ': 32,\n",
              " ' Victor Moses ': 10,\n",
              " ' Marouane Fellaini ': 30,\n",
              " ' PSG v Caen ': 11,\n",
              " ' Crystal Palace v Arsenal ': 13,\n",
              " ' Juventus v Roma ': 4,\n",
              " ' Manchester United v Burnley ': 10,\n",
              " ' Real Salt Lake ': 23,\n",
              " ' Nick Rimando ': 4,\n",
              " ' Villarreal ': 48,\n",
              " ' Spain ': 23,\n",
              " ' Santi Cazorla ': 8,\n",
              " ' Kenedy ': 13,\n",
              " ' Manchester United v Norwich City ': 3,\n",
              " ' Shanghai SIPG ': 15,\n",
              " ' Hulk ': 4,\n",
              " ' Palmeiras ': 9,\n",
              " ' PSG v Saint-Étienne ': 11,\n",
              " ' Monaco v Olympique Marseille ': 8,\n",
              " ' Tottenham Hotspur v Fulham ': 3,\n",
              " ' Aston Villa ': 103,\n",
              " ' Ipswich Town v Aston Villa ': 2,\n",
              " ' Thibaut Courtois ': 73,\n",
              " ' Dayotchanculle Upamecano ': 3,\n",
              " ' Daniele Rugani ': 17,\n",
              " ' Leon Goretzka ': 27,\n",
              " ' Rodri Hernández ': 11,\n",
              " ' Copa del Rey ': 52,\n",
              " ' Cultural Leonesa v Barcelona ': 1,\n",
              " ' Cultural Leonesa ': 2,\n",
              " ' Dominic Solanke ': 18,\n",
              " ' Watford v Liverpool ': 18,\n",
              " ' Thomas Deng ': 2,\n",
              " ' Melbourne Victory ': 14,\n",
              " ' Sydney ': 18,\n",
              " ' Perth Glory ': 10,\n",
              " ' Jordy Buijs ': 3,\n",
              " ' Jorginho ': 48,\n",
              " ' Chelsea v Manchester City ': 17,\n",
              " ' Chelsea v Cardiff City ': 4,\n",
              " \" N'Golo Kanté \": 26,\n",
              " ' Muniain ': 1,\n",
              " ' Shamrock Rovers ': 2,\n",
              " ' Premier Division ': 6,\n",
              " ' Luca Pellegrini ': 3,\n",
              " ' Leonardo Spinazzola ': 3,\n",
              " ' Manchester City v Manchester United ': 25,\n",
              " ' Charly Musonda ': 14,\n",
              " ' Juventus v Barcelona ': 16,\n",
              " ' Iniesta ': 54,\n",
              " ' Houston Dynamo ': 9,\n",
              " ' Liga MX ': 62,\n",
              " ' Alberth Elis ': 1,\n",
              " ' Honduras ': 3,\n",
              " ' Gonçalo Guedes ': 7,\n",
              " ' UEFA Super Cup ': 18,\n",
              " ' Huddersfield Town v Chelsea ': 10,\n",
              " ' Liverpool v Norwich City ': 3,\n",
              " ' Andre Wisdom ': 2,\n",
              " ' Derby County ': 42,\n",
              " ' Anderlecht ': 17,\n",
              " ' Atlético Madrid v Sevilla ': 3,\n",
              " ' Thiago Silva ': 16,\n",
              " ' Luka Modrić ': 40,\n",
              " ' Jiangsu Suning ': 12,\n",
              " ' Ramires ': 4,\n",
              " ' Nabil Fekir ': 49,\n",
              " ' Christian Pulisic ': 51,\n",
              " ' Nemanja Maksimović ': 1,\n",
              " ' Fenerbahçe ': 32,\n",
              " ' PSL ': 30,\n",
              " ' Goal United ': 2,\n",
              " ' Edward Manqele ': 1,\n",
              " ' Kaizer Chiefs ': 11,\n",
              " ' Mateo Kovačić ': 28,\n",
              " ' Palermo ': 2,\n",
              " ' Real Madrid v Liverpool ': 16,\n",
              " ' Lautaro Martínez ': 32,\n",
              " ' Real Madrid v Manchester City ': 4,\n",
              " ' Juan Cuadrado ': 11,\n",
              " ' Casemiro ': 6,\n",
              " ' Watford v Manchester United ': 8,\n",
              " ' Bayern München v Eintracht Frankfurt ': 10,\n",
              " ' Edimilson Fernandes ': 1,\n",
              " ' Gélson Fernandes ': 1,\n",
              " ' Apollon ': 1,\n",
              " ' Nacer Chadli ': 1,\n",
              " ' Thomas Lemar ': 39,\n",
              " ' Anthony Martial ': 38,\n",
              " ' Andy Carroll ': 17,\n",
              " ' Brazil v Mexico ': 2,\n",
              " ' WTF ': 30,\n",
              " ' Enner Valencia ': 2,\n",
              " ' Tigres UANL ': 10,\n",
              " ' Manchester United v Chelsea ': 37,\n",
              " ' Emerson ': 18,\n",
              " ' Rodrigo ': 15,\n",
              " ' Odion Ighalo ': 13,\n",
              " ' Juventus v Bologna ': 5,\n",
              " ' Bologna ': 23,\n",
              " ' Crotone v Milan ': 5,\n",
              " ' Tijuana ': 12,\n",
              " ' Fabián Castillo ': 1,\n",
              " ' Fulham v Arsenal ': 1,\n",
              " ' Barcelona v Sporting Gijón ': 2,\n",
              " ' Sporting Gijón ': 2,\n",
              " ' Orlando City ': 23,\n",
              " ' Taça da Liga ': 2,\n",
              " ' Oriol Rosell ': 1,\n",
              " ' Napoli v Torino ': 2,\n",
              " ' David Ospina ': 8,\n",
              " ' Carles Pérez ': 4,\n",
              " ' Ante Palaversa ': 1,\n",
              " ' Hajduk Split ': 3,\n",
              " ' United States ': 50,\n",
              " ' WC Qualification Concacaf ': 4,\n",
              " ' Honduras v United States ': 1,\n",
              " ' New York RB ': 19,\n",
              " ' Impact ': 4,\n",
              " ' Boca Juniors ': 37,\n",
              " ' Darío Benedetto ': 1,\n",
              " ' Superliga ': 55,\n",
              " ' Jordi Alba ': 10,\n",
              " ' Louie Barry ': 3,\n",
              " ' Robert Lewandowski ': 73,\n",
              " ' Bayern München v Hoffenheim ': 7,\n",
              " ' Real Madrid v Getafe ': 2,\n",
              " ' Justen Glad ': 1,\n",
              " ' Jordan Allen ': 1,\n",
              " ' Héctor Moreno ': 3,\n",
              " ' Opinion ': 56,\n",
              " ' Ryan Sessegnon ': 24,\n",
              " ' Henrikh Mkhitaryan ': 40,\n",
              " ' Al Sadd ': 6,\n",
              " ' Sergio Ramos ': 23,\n",
              " ' Sergi Samper ': 4,\n",
              " ' Vissel Kobe ': 12,\n",
              " ' J1 League ': 20,\n",
              " ' Real Madrid v Celta de Vigo ': 4,\n",
              " ' Marcos Alonso ': 19,\n",
              " ' Daniel Sturridge ': 29,\n",
              " ' Edinson Cavani ': 57,\n",
              " ' Alphonso Davies ': 9,\n",
              " ' Vancouver Whitecaps ': 19,\n",
              " ' RB Leipzig v Bayern München ': 9,\n",
              " ' Belgium v Kazakhstan ': 1,\n",
              " ' Belgium ': 21,\n",
              " ' Seattle Sounders v Sporting KC ': 1,\n",
              " ' DC United v Real Salt Lake ': 3,\n",
              " ' LASK v Manchester United ': 8,\n",
              " ' Tahith Chong ': 7,\n",
              " ' Nottingham Forest ': 15,\n",
              " ' Karim Ansarifard ': 1,\n",
              " ' Jarrod Bowen ': 2,\n",
              " ' Chelsea v Crystal Palace ': 8,\n",
              " ' Bordeaux v Strasbourg ': 1,\n",
              " ' Barcelona v Deportivo Alavés ': 16,\n",
              " ' Liverpool v West Bromwich Albion ': 4,\n",
              " ' Daniel Ings ': 5,\n",
              " ' Arsenal v Southampton ': 7,\n",
              " ' Gimnasia La Plata ': 2,\n",
              " ' Mata ': 17,\n",
              " ' Milan v Juventus ': 5,\n",
              " ' Al Ahli v Bayern München ': 1,\n",
              " ' Al Ahli ': 1,\n",
              " ' Sandro Wagner ': 10,\n",
              " ' Mats Hummels ': 12,\n",
              " ' Jack Grealish ': 38,\n",
              " ' Manchester United v Aston Villa ': 3,\n",
              " ' Joshua King ': 3,\n",
              " ' Burnley v AFC Bournemouth ': 1,\n",
              " ' Chelsea v Manchester United ': 22,\n",
              " ' Manchester United v West Ham United ': 9,\n",
              " ' Monaco v Toulouse ': 7,\n",
              " ' Liverpool v Leicester City ': 7,\n",
              " ' Youri Tielemans ': 9,\n",
              " ' Tottenham Hotspur v Watford ': 6,\n",
              " ' G. Higuaín ': 72,\n",
              " ' Arsenal v Manchester United ': 28,\n",
              " ' Nancy v Monaco ': 3,\n",
              " ' Coronavirus ': 5,\n",
              " ' European Championship ': 6,\n",
              " ' Gerson ': 1,\n",
              " ' Leandro Paredes ': 12,\n",
              " ' Sean Longstaff ': 7,\n",
              " ' Alfredo Morelos ': 5,\n",
              " ' Hebei CFFC ': 15,\n",
              " ' Southampton v Manchester United ': 9,\n",
              " ' Vinícius Júnior ': 17,\n",
              " ' Tottenham Hotspur v Wolverhampton Wanderers ': 3,\n",
              " ' Xherdan Shaqiri ': 11,\n",
              " ' Tottenham Hotspur v Liverpool ': 27,\n",
              " ' Jon Flanagan ': 1,\n",
              " ' Dinamo Zagreb ': 14,\n",
              " ' David Luiz ': 41,\n",
              " ' Liverpool v Chelsea ': 8,\n",
              " ' Everton v Chelsea ': 9,\n",
              " ' Eibar ': 17,\n",
              " ' Barcelona v Eibar ': 9,\n",
              " ' Nathaniel Clyne ': 9,\n",
              " ' Isco ': 26,\n",
              " ' Borja Valero ': 4,\n",
              " ' Angeliño ': 6,\n",
              " ' Salzburg ': 30,\n",
              " ' Marco Reus ': 11,\n",
              " ' Tottenham Hotspur v Olympiakos Piraeus ': 3,\n",
              " ' Wigan Athletic ': 10,\n",
              " ' Diego Laxalt ': 2,\n",
              " ' Antonee Robinson ': 3,\n",
              " ' Millwall ': 6,\n",
              " ' Norway v Australia ': 1,\n",
              " ' Leeds United v Millwall ': 1,\n",
              " ' Australia ': 16,\n",
              " ' Friendlies ': 58,\n",
              " ' Takumi Minamino ': 12,\n",
              " ' Liverpool v Watford ': 4,\n",
              " ' Everton v Huddersfield Town ': 3,\n",
              " ' Manchester United v Tottenham Hotspur ': 5,\n",
              " ' Eibar v Barcelona ': 10,\n",
              " ' Marc-André ter Stegen ': 10,\n",
              " ' Neto ': 5,\n",
              " ' Marcos Rojo ': 10,\n",
              " ' Andreas Christensen ': 17,\n",
              " ' Borussia Dortmund v Augsburg ': 2,\n",
              " ' Mattia Caldara ': 4,\n",
              " ' Bayern München v Real Madrid ': 9,\n",
              " ' Burnley v Leicester City ': 2,\n",
              " ' Robbie Brady ': 1,\n",
              " ' Niklas Dorsch ': 1,\n",
              " ' Atalanta ': 33,\n",
              " ' Bryan Cristante ': 5,\n",
              " ' Schalke 04 v RB Leipzig ': 3,\n",
              " ' Liverpool v West Ham United ': 12,\n",
              " ' Chelsea v Bayern München ': 8,\n",
              " ' Newport County v Stevenage ': 1,\n",
              " ' Stevenage ': 3,\n",
              " ' Newport County ': 1,\n",
              " ' Giovani dos Santos ': 3,\n",
              " ' Jonathan dos Santos ': 5,\n",
              " ' Granit Xhaka ': 19,\n",
              " ' Arsenal v Chelsea ': 45,\n",
              " ' Giorgio Chiellini ': 10,\n",
              " ' Manchester United v Newcastle United ': 8,\n",
              " ' Aston Villa v Norwich City ': 1,\n",
              " ' Fabian Delph ': 7,\n",
              " ' Toni Kroos ': 14,\n",
              " ' Newcastle United v Cardiff City ': 1,\n",
              " ' Angers SCO v Nantes ': 1,\n",
              " ' Coppa Italia ': 13,\n",
              " ' Internazionale v Lazio ': 3,\n",
              " ' Αμιάν ': 16,\n",
              " ' Marquinhos ': 14,\n",
              " ' Youcef Atal ': 2,\n",
              " ' Nice v Angers SCO ': 1,\n",
              " ' Angers SCO ': 7,\n",
              " ' Fabio Borini ': 2,\n",
              " ' Matheus Pereira ': 2,\n",
              " ' Burnley v Newcastle United ': 4,\n",
              " ' Lucas Hernández ': 19,\n",
              " ' Jan Oblak ': 14,\n",
              " ' Luka Jović ': 32,\n",
              " ' Malmö FF v Chelsea ': 1,\n",
              " ' Internazionale v Barcelona ': 4,\n",
              " ' Las Palmas ': 22,\n",
              " ' Loïc Rémy ': 2,\n",
              " ' Abdülkadir Ömür ': 2,\n",
              " ' Barcelona v Manchester United ': 15,\n",
              " ' Juventus v Ajax ': 3,\n",
              " ' Bacary Sagna ': 5,\n",
              " ' Liverpool v Salzburg ': 2,\n",
              " ' Andrew Robertson ': 14,\n",
              " ' Hertha BSC v Borussia Dortmund ': 5,\n",
              " ' Hertha BSC ': 28,\n",
              " ' Chelsea v Burnley ': 17,\n",
              " ' Burnley v Manchester United ': 4,\n",
              " ' Monaco v Juventus ': 5,\n",
              " ' Hoffenheim v Liverpool ': 2,\n",
              " ' Hoffenheim ': 47,\n",
              " ' Mario Balotelli ': 51,\n",
              " ' Nice v Reims ': 2,\n",
              " ' Jeison Murillo ': 8,\n",
              " ' Manchester United U18 ': 1,\n",
              " ' U18 Premier League ': 2,\n",
              " ' Ben Chilwell ': 22,\n",
              " ' Sevilla v Barcelona ': 14,\n",
              " ' Coupe de France ': 22,\n",
              " ' Feyenoord ': 12,\n",
              " ' Strasbourg ': 10,\n",
              " ' Feyenoord v Ajax ': 1,\n",
              " ' Girona v Barcelona ': 4,\n",
              " ' PSG v Strasbourg ': 6,\n",
              " ' Heerenveen ': 6,\n",
              " ' KNVB Beker ': 1,\n",
              " ' Newcastle United v Manchester City ': 4,\n",
              " ' Girona ': 24,\n",
              " ' Ajax v Heerenveen ': 4,\n",
              " ' Alessandro Florenzi ': 2,\n",
              " ' Carlos Tevez ': 18,\n",
              " ' Sebastian Rode ': 2,\n",
              " ' Geoff Cameron ': 2,\n",
              " ' Phil Bardsley ': 2,\n",
              " ' Southampton v Stoke City ': 1,\n",
              " ' Dimitri Petratos ': 5,\n",
              " ' K League 1 ': 9,\n",
              " ' Brisbane Roar ': 13,\n",
              " ' Shanghai Shenhua v Brisbane Roar ': 3,\n",
              " ' Newcastle Jets ': 20,\n",
              " ' Shanghai Shenhua ': 27,\n",
              " ' Ulsan ': 5,\n",
              " ' AFC Champions League ': 9,\n",
              " ' Ufa ': 1,\n",
              " ' Kyle Lafferty ': 1,\n",
              " ' Hearts ': 7,\n",
              " ' Super League 1 ': 7,\n",
              " ' Glen Moss ': 1,\n",
              " ' AFC Bournemouth v Arsenal ': 10,\n",
              " ' Fabian Schär ': 1,\n",
              " ' Deportivo La Coruña ': 20,\n",
              " ' Arsenal v Tottenham Hotspur ': 8,\n",
              " ' Lukas Podolski ': 4,\n",
              " ' Werder Bremen ': 35,\n",
              " ' Hertha BSC v RB Leipzig ': 2,\n",
              " ' Ivan Perišić ': 53,\n",
              " ' Liverpool v Manchester United ': 16,\n",
              " ' Joris Gnagnon ': 2,\n",
              " ' Bristol City ': 15,\n",
              " ' Adam Webster ': 1,\n",
              " ' Carlos Sánchez ': 1,\n",
              " ' Sampdoria ': 47,\n",
              " ' Malmö FF ': 3,\n",
              " ' Allsvenskan ': 5,\n",
              " ' Gabriel Barbosa ': 14,\n",
              " ' Frosinone v Juventus ': 1,\n",
              " ' Real Madrid v Espanyol ': 6,\n",
              " ' Fred ': 20,\n",
              " ' Manchester United v Everton ': 8,\n",
              " ' Diego Godín ': 11,\n",
              " ' Sevilla v Atlético Madrid ': 3,\n",
              " ' Roque Mesa ': 2,\n",
              " ' Konstantinos Mavropanos ': 8,\n",
              " ' NAC Breda v Excelsior ': 1,\n",
              " ' NAC Breda ': 4,\n",
              " ' Manchester City v Watford ': 5,\n",
              " ' Aaron Wan-Bissaka ': 30,\n",
              " ' Max Meyer ': 7,\n",
              " ' Peñarol ': 2,\n",
              " ' Germany ': 29,\n",
              " ' Germany v Mexico ': 2,\n",
              " ' Barcelona v Valencia ': 8,\n",
              " ' Thilo Kehrer ': 4,\n",
              " ' PSG v Monaco ': 9,\n",
              " ' Swansea City v Crystal Palace ': 2,\n",
              " ' Bury v Liverpool ': 1,\n",
              " ' Fabián Ruiz ': 5,\n",
              " ' Confederations Cup ': 12,\n",
              " ' Dejan Lovren ': 11,\n",
              " ' Coupe de la Ligue ': 19,\n",
              " ' France v Spain ': 3,\n",
              " ' Deportivo Alavés ': 23,\n",
              " ' Liverpool v Borussia Dortmund ': 2,\n",
              " ' Olympique Lyonnais v Nice ': 7,\n",
              " ' Manchester United v Perth Glory ': 7,\n",
              " ' Liverpool v Barcelona ': 3,\n",
              " ' Philippe Sandler ': 1,\n",
              " ' PEC Zwolle ': 5,\n",
              " ' David Alaba ': 13,\n",
              " ' Olympiakos Piraeus v Tottenham Hotspur ': 2,\n",
              " ' Wolverhampton Wanderers v Manchester United ': 14,\n",
              " ' Lanús ': 3,\n",
              " ' USL Championship ': 6,\n",
              " ' Orange County SC ': 1,\n",
              " ' Aleksandar Jovanović ': 1,\n",
              " ' Tianjin Teda ': 7,\n",
              " ' Jeju United ': 1,\n",
              " ' Arsenal v Stoke City ': 4,\n",
              " ' Davide Zappacosta ': 11,\n",
              " ' West Ham United v Chelsea ': 9,\n",
              " ' Manchester United v Arsenal ': 14,\n",
              " ' Nuri Şahin ': 3,\n",
              " ' Diego Rico ': 2,\n",
              " ' Athletic Club v Leganés ': 4,\n",
              " ' AFC Bournemouth v Cardiff City ': 2,\n",
              " ' Leganés ': 28,\n",
              " ' Xavier Amaechi ': 3,\n",
              " ' Kasper Dolberg ': 10,\n",
              " ' Manchester United v Stoke City ': 8,\n",
              " ' Ezequiel Schelotto ': 1,\n",
              " ' Chelsea v Eintracht Frankfurt ': 5,\n",
              " ' Wilfredo Caballero ': 12,\n",
              " ' Burnley v Liverpool ': 3,\n",
              " ' Neven Subotić ': 2,\n",
              " ' Liverpool v Brighton & Hove Albion ': 9,\n",
              " ' Alexander Nübel ': 3,\n",
              " ' Al Ain ': 1,\n",
              " ' River Plate v Al Ain ': 1,\n",
              " ' FIFA Club World Cup ': 10,\n",
              " ' River Plate ': 18,\n",
              " ' Exequiel Palacios ': 4,\n",
              " ' Antalyaspor ': 8,\n",
              " ' Göztepe ': 1,\n",
              " ' Antalyaspor v Göztepe ': 1,\n",
              " ' Crystal Palace v Huddersfield Town ': 3,\n",
              " ' Timothy Fosu-Mensah ': 3,\n",
              " ' Nîmes ': 5,\n",
              " ' Eintracht Frankfurt v Hoffenheim ': 2,\n",
              " ' Kerem Demirbay ': 5,\n",
              " ' Fulham v Crystal Palace ': 12,\n",
              " ' Manchester United v Watford ': 9,\n",
              " ' Kylian Hazard ': 4,\n",
              " ' Thorgan Hazard ': 14,\n",
              " ' Jesé ': 11,\n",
              " ' Jonathan Calleri ': 1,\n",
              " ' Deportivo Maldonado ': 1,\n",
              " ' Hernán Toledo ': 1,\n",
              " ' Las Palmas v Valencia ': 2,\n",
              " ' Matt Miazga ': 4,\n",
              " ' Bologna v Internazionale ': 5,\n",
              " ' Bartra ': 5,\n",
              " ' Steven Defour ': 1,\n",
              " ' Swansea City v Southampton ': 2,\n",
              " ' Matteo Darmian ': 23,\n",
              " ' Kasey Palmer ': 7,\n",
              " ' Pepe ': 10,\n",
              " ' Juventus v Real Madrid ': 9,\n",
              " ' Koke ': 5,\n",
              " ' New England ': 16,\n",
              " ' Columbus Crew ': 20,\n",
              " ' Krisztián Németh ': 2,\n",
              " ' NWSL ': 9,\n",
              " ' OL Reign ': 2,\n",
              " ' Primera División Femenina ': 14,\n",
              " ' Segunda Liga ': 1,\n",
              " ' Keaton Parks ': 1,\n",
              " ' Benfica II ': 1,\n",
              " ' Daniel James ': 13,\n",
              " ' Chongqing Dangdai Lifan ': 7,\n",
              " ' CONMEBOL Libertadores ': 13,\n",
              " ' Fernandinho Silva ': 1,\n",
              " ' John Obi Mikel ': 5,\n",
              " ' Nîmes v PSG ': 2,\n",
              " ' E. Choupo-Moting ': 4,\n",
              " ' West Bromwich Albion v Stoke City ': 4,\n",
              " ' Harry Wilson ': 11,\n",
              " ' Derby County v Nottingham Forest ': 1,\n",
              " ' Liverpool v Burnley ': 3,\n",
              " ' Arsenal v Sporting CP ': 1,\n",
              " ' Manchester United v Wolverhampton Wanderers ': 8,\n",
              " ' PSG v Olympique Lyonnais ': 4,\n",
              " ' Caen v PSG ': 6,\n",
              " ' Donny van de Beek ': 18,\n",
              " ' Serge Aurier ': 13,\n",
              " ' Danny Rose ': 23,\n",
              " ' Jürgen Locadia ': 2,\n",
              " ' Αμιάν v PSG ': 2,\n",
              " ' Ismaïla Sarr ': 3,\n",
              " ' Valentino Lazaro ': 2,\n",
              " ' Hannover 96 ': 10,\n",
              " ' Bobby Wood ': 3,\n",
              " ' Antonio Candreva ': 8,\n",
              " \" Borussia M'gladbach \": 48,\n",
              " ' Mahmoud Dahoud ': 3,\n",
              " ' Augsburg v Borussia Dortmund ': 2,\n",
              " \" Borussia M'gladbach v Darmstadt 98 \": 1,\n",
              " ' Manchester City v Leicester City ': 11,\n",
              " ' Algeria ': 1,\n",
              " ' Luke Shaw ': 7,\n",
              " ' Yerry Mina ': 34,\n",
              " ' Mario Pašalić ': 5,\n",
              " ' Josip Iličić ': 1,\n",
              " ' Alejandro Gómez ': 2,\n",
              " ' Atalanta v Milan ': 2,\n",
              " ' Piqué ': 26,\n",
              " ' Norwich City v Liverpool ': 4,\n",
              " ' Thiago Mendes ': 3,\n",
              " ' Huddersfield Town v Manchester United ': 13,\n",
              " ' Tottenham Hotspur v Everton ': 10,\n",
              " ' Manchester United v Cardiff City ': 9,\n",
              " ' Real Sociedad v Real Madrid ': 10,\n",
              " ' Leicester City v Manchester United ': 4,\n",
              " ' Krystian Bielik ': 5,\n",
              " ' Málaga v Barcelona ': 4,\n",
              " ' Ivan Rakitić ': 42,\n",
              " ' Francis Coquelin ': 9,\n",
              " ' Mathieu Debuchy ': 4,\n",
              " ' Deportivo Alavés v Barcelona ': 11,\n",
              " ' France v Luxembourg ': 1,\n",
              " ' France v Netherlands ': 5,\n",
              " ' France ': 59,\n",
              " ' WC Qualification Europe ': 20,\n",
              " ' Barcelona v Espanyol ': 7,\n",
              " ' Metz v PSG ': 12,\n",
              " ' Carvajal ': 11,\n",
              " ' Carlos Vela ': 7,\n",
              " ' Juventus v Napoli ': 7,\n",
              " ' Bayer Leverkusen ': 90,\n",
              " ' Benjamin Henrichs ': 3,\n",
              " ' Angus Gunn ': 2,\n",
              " ' Emile Smith Rowe ': 5,\n",
              " ' Junior Firpo ': 3,\n",
              " ' Rodrigo Caio ': 3,\n",
              " ' Stefan de Vrij ': 13,\n",
              " ' Rodrigo Bentancur ': 4,\n",
              " ' Tweede Divisie ': 1,\n",
              " ' Rijnsburgse Boys ': 1,\n",
              " ' Borussia Dortmund v Eintracht Frankfurt ': 1,\n",
              " ' Hakim Ziyech ': 16,\n",
              " ' Pedro ': 17,\n",
              " ' Willian ': 51,\n",
              " ' Genk ': 15,\n",
              " ' Leon Bailey ': 25,\n",
              " ' Benjamin Pavard ': 16,\n",
              " ' Suso ': 13,\n",
              " ' Julian Brandt ': 15,\n",
              " ' Joshua Kimmich ': 9,\n",
              " ' Andrew Gutman ': 1,\n",
              " ' Matt Polster ': 2,\n",
              " ' Chicago Fire ': 22,\n",
              " ' Sofiane Boufal ': 1,\n",
              " ' Crystal Palace v Manchester City ': 6,\n",
              " ' Krasnodar ': 1,\n",
              " ' Guangzhou Evergrande ': 27,\n",
              " ' Chelsea v Liverpool ': 7,\n",
              " ' Yannick Bolasie ': 8,\n",
              " ' Manchester City v Real Madrid ': 3,\n",
              " ' Chelsea v Tottenham Hotspur ': 6,\n",
              " ' Tottenham Hotspur v Norwich City ': 3,\n",
              " ' Marko Grujić ': 14,\n",
              " ' Arsenal v West Ham United ': 10,\n",
              " ' Nürnberg v Bayern München ': 1,\n",
              " ' Schalke 04 v Hoffenheim ': 1,\n",
              " ' João Moutinho ': 3,\n",
              " ' Jamaal Lascelles ': 2,\n",
              " ' Marcus Rashford ': 18,\n",
              " ' Real Madrid II v Melilla ': 1,\n",
              " ' Real Madrid II ': 3,\n",
              " ' Athletic Club v Barcelona ': 5,\n",
              " ' Real Madrid v Real Sociedad ': 3,\n",
              " ' Partizan v Manchester United ': 5,\n",
              " ' Montenegro v Serbia ': 2,\n",
              " ' Serbia ': 14,\n",
              " ' Montenegro ': 3,\n",
              " ' Nikola Milenković ': 5,\n",
              " ' Oscar ': 6,\n",
              " ' Daniel Welbeck ': 13,\n",
              " ' Deulofeu ': 22,\n",
              " ' Tanguy Ndombèlé ': 20,\n",
              " ' Chelsea v BATE ': 3,\n",
              " ' Racing Club ': 12,\n",
              " ' Salzburg v Genk ': 1,\n",
              " ' Oliver Burke ': 5,\n",
              " ' Chelsea v Brighton & Hove Albion ': 2,\n",
              " ' Everton v Watford ': 1,\n",
              " ' Kalidou Koulibaly ': 35,\n",
              " ' Phoenix Rising ': 3,\n",
              " ' Louisville City ': 1,\n",
              " ' Louisville City v Phoenix Rising ': 1,\n",
              " ' Arsenal v Everton ': 9,\n",
              " ' Leicester City v Norwich City ': 1,\n",
              " ' Ç. Söyüncü ': 6,\n",
              " ' Achraf Hakimi ': 11,\n",
              " ' Sami Khedira ': 6,\n",
              " ' Félix Correia ': 1,\n",
              " ' Alex Meret ': 1,\n",
              " ' Renato Sanches ': 32,\n",
              " ' Bayern München v Milan ': 6,\n",
              " ' Manchester United v Southampton ': 7,\n",
              " ' Real Madrid v PSG ': 9,\n",
              " ...}"
            ]
          },
          "metadata": {
            "tags": []
          },
          "execution_count": 102
        }
      ]
    },
    {
      "cell_type": "code",
      "metadata": {
        "id": "1kHToeQ-AO81",
        "colab_type": "code",
        "outputId": "bb0b6860-b84b-404b-e333-37ed7b9a1a7e",
        "colab": {
          "base_uri": "https://localhost:8080/",
          "height": 69
        }
      },
      "source": [
        "doc = nlp(\"there is a huge hole going to be left behind by Lionel Messi when he leaves Barcelona\")\n",
        "for token in doc.ents:\n",
        "  print(token.text,token.label_)"
      ],
      "execution_count": 0,
      "outputs": [
        {
          "output_type": "stream",
          "text": [
            "there TEAM\n",
            "Lionel Messi PLAYER\n",
            "Barcelona TEAM\n"
          ],
          "name": "stdout"
        }
      ]
    },
    {
      "cell_type": "code",
      "metadata": {
        "id": "xQrmLdWEBSOH",
        "colab_type": "code",
        "colab": {}
      },
      "source": [
        ""
      ],
      "execution_count": 0,
      "outputs": []
    },
    {
      "cell_type": "code",
      "metadata": {
        "id": "rEQQX9n6WOnL",
        "colab_type": "code",
        "colab": {}
      },
      "source": [
        ""
      ],
      "execution_count": 0,
      "outputs": []
    }
  ]
}